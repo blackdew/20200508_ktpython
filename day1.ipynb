{
 "cells": [
  {
   "cell_type": "code",
   "execution_count": null,
   "metadata": {},
   "outputs": [],
   "source": [
    "# python 3.0\n",
    "print(\"hello python\")\n",
    "\n",
    "# python 2.0\n",
    "# print \"hello python\""
   ]
  },
  {
   "cell_type": "code",
   "execution_count": 2,
   "metadata": {},
   "outputs": [
    {
     "name": "stdout",
     "output_type": "stream",
     "text": [
      "hello, python\n"
     ]
    }
   ],
   "source": [
    "message = \"hello, python\"\n",
    "print(message)"
   ]
  },
  {
   "cell_type": "code",
   "execution_count": 3,
   "metadata": {},
   "outputs": [
    {
     "name": "stdout",
     "output_type": "stream",
     "text": [
      "hello, python\n"
     ]
    }
   ],
   "source": [
    "print(message)"
   ]
  },
  {
   "cell_type": "code",
   "execution_count": 8,
   "metadata": {},
   "outputs": [
    {
     "name": "stdout",
     "output_type": "stream",
     "text": [
      "10 20\n",
      "10.5 0.12\n",
      "(3+2j)\n"
     ]
    }
   ],
   "source": [
    "# int\n",
    "num1, num2 = 10, 20\n",
    "print(num1, num2)\n",
    "\n",
    "# float\n",
    "num_float1, num_float2 = 10.5, .12\n",
    "print(num_float1, num_float2)\n",
    "\n",
    "# complex\n",
    "num_complex = 3 + 2j\n",
    "print(num_complex)\n"
   ]
  },
  {
   "cell_type": "code",
   "execution_count": 14,
   "metadata": {},
   "outputs": [
    {
     "name": "stdout",
     "output_type": "stream",
     "text": [
      "사칙연산 **********\n",
      "30\n",
      "-10\n",
      "200\n",
      "0.5\n",
      "제곱 **********\n",
      "100\n",
      "1000\n",
      "나눗셈 **********\n",
      "10\n",
      "3\n",
      "1\n"
     ]
    }
   ],
   "source": [
    "# 사칙연산\n",
    "print(\"사칙연산\", \"*\" * 10)\n",
    "print(num1 + num2)\n",
    "print(num1 - num2)\n",
    "print(num1 * num2)\n",
    "print(num1 / num2)\n",
    "\n",
    "# 제곱 \n",
    "print(\"제곱\", \"*\" * 10)\n",
    "print(num1 ** 2)\n",
    "print(num1 ** 3)\n",
    "\n",
    "# 나눗셈의 몫, 나눗셈의 나머지\n",
    "print(\"나눗셈\", \"*\" * 10)\n",
    "print(num1)\n",
    "print(num1 // 3)\n",
    "print(num1 % 3)\n"
   ]
  },
  {
   "cell_type": "code",
   "execution_count": 41,
   "metadata": {},
   "outputs": [
    {
     "name": "stdout",
     "output_type": "stream",
     "text": [
      "72\n",
      "73\n",
      "74\n"
     ]
    }
   ],
   "source": [
    "print(num1) # 10\n",
    "num1 = num1 + 1\n",
    "print(num1) # 11\n",
    "num1 += 1\n",
    "print(num1)"
   ]
  },
  {
   "cell_type": "code",
   "execution_count": 44,
   "metadata": {},
   "outputs": [
    {
     "name": "stdout",
     "output_type": "stream",
     "text": [
      "<class 'int'>\n",
      "<class 'float'>\n",
      "<class 'complex'>\n"
     ]
    }
   ],
   "source": [
    "print(type(num1))\n",
    "print(type(num_float1))\n",
    "print(type(num_complex))"
   ]
  },
  {
   "cell_type": "markdown",
   "metadata": {},
   "source": [
    "hello, \"day1\" python"
   ]
  },
  {
   "cell_type": "code",
   "execution_count": 49,
   "metadata": {},
   "outputs": [
    {
     "name": "stdout",
     "output_type": "stream",
     "text": [
      "hello, \"day1\" python\n"
     ]
    }
   ],
   "source": [
    "message = \"hello, \\\"day1\\\" python\"\n",
    "print(message)"
   ]
  },
  {
   "cell_type": "code",
   "execution_count": 50,
   "metadata": {},
   "outputs": [
    {
     "name": "stdout",
     "output_type": "stream",
     "text": [
      "hello, 'day1' python\n"
     ]
    }
   ],
   "source": [
    "message = 'hello, \\'day1\\' python'\n",
    "print(message)"
   ]
  },
  {
   "cell_type": "code",
   "execution_count": 52,
   "metadata": {},
   "outputs": [
    {
     "name": "stdout",
     "output_type": "stream",
     "text": [
      "\n",
      "hello,\n",
      "python.\n",
      "\n"
     ]
    }
   ],
   "source": [
    "multiline = \"\"\"\n",
    "hello,\n",
    "python.\n",
    "\"\"\"\n",
    "print(multiline)"
   ]
  },
  {
   "cell_type": "code",
   "execution_count": 62,
   "metadata": {},
   "outputs": [
    {
     "name": "stdout",
     "output_type": "stream",
     "text": [
      "hello Python\n",
      "helloPython\n",
      "HELLO\n",
      "python\n",
      "Hey Jude\n",
      "Hey jude\n",
      "hello jude\n"
     ]
    }
   ],
   "source": [
    "w1, w2 = \"hello\", \"Python\"\n",
    "w3 = w1 + w2\n",
    "print(w1, w2)\n",
    "print(w3)\n",
    "print(w1.upper())\n",
    "print(w2.lower())\n",
    "print(\"hey jude\".title())\n",
    "print(\"hey jude\".capitalize())\n",
    "print(\"hey jude\".replace('hey', 'hello'))"
   ]
  },
  {
   "cell_type": "code",
   "execution_count": 66,
   "metadata": {},
   "outputs": [
    {
     "name": "stdout",
     "output_type": "stream",
     "text": [
      "안녕하세요. 이숙번님. 파이썬 수업에 오신 걸 환영합니다. 이숙번 이숙번\n"
     ]
    }
   ],
   "source": [
    "name = '이숙번'\n",
    "수업 = '파이썬' \n",
    "email = \"안녕하세요. {0}님. {1} 수업에 오신 걸 환영합니다. {0} {0}\"\n",
    "\n",
    "print(email.format(name, 수업))"
   ]
  },
  {
   "cell_type": "code",
   "execution_count": null,
   "metadata": {},
   "outputs": [],
   "source": []
  }
 ],
 "metadata": {
  "kernelspec": {
   "display_name": "Python 3",
   "language": "python",
   "name": "python3"
  },
  "language_info": {
   "codemirror_mode": {
    "name": "ipython",
    "version": 3
   },
   "file_extension": ".py",
   "mimetype": "text/x-python",
   "name": "python",
   "nbconvert_exporter": "python",
   "pygments_lexer": "ipython3",
   "version": "3.7.7"
  }
 },
 "nbformat": 4,
 "nbformat_minor": 4
}
