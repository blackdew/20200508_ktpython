{
 "cells": [
  {
   "cell_type": "code",
   "execution_count": null,
   "metadata": {},
   "outputs": [],
   "source": [
    "# python 3.0\n",
    "print(\"hello python\")\n",
    "\n",
    "# python 2.0\n",
    "# print \"hello python\""
   ]
  },
  {
   "cell_type": "code",
   "execution_count": 2,
   "metadata": {},
   "outputs": [
    {
     "name": "stdout",
     "output_type": "stream",
     "text": [
      "hello, python\n"
     ]
    }
   ],
   "source": [
    "message = \"hello, python\"\n",
    "print(message)"
   ]
  },
  {
   "cell_type": "code",
   "execution_count": 3,
   "metadata": {},
   "outputs": [
    {
     "name": "stdout",
     "output_type": "stream",
     "text": [
      "hello, python\n"
     ]
    }
   ],
   "source": [
    "print(message)"
   ]
  },
  {
   "cell_type": "code",
   "execution_count": 8,
   "metadata": {},
   "outputs": [
    {
     "name": "stdout",
     "output_type": "stream",
     "text": [
      "10 20\n",
      "10.5 0.12\n",
      "(3+2j)\n"
     ]
    }
   ],
   "source": [
    "# int\n",
    "num1, num2 = 10, 20\n",
    "print(num1, num2)\n",
    "\n",
    "# float\n",
    "num_float1, num_float2 = 10.5, .12\n",
    "print(num_float1, num_float2)\n",
    "\n",
    "# complex\n",
    "num_complex = 3 + 2j\n",
    "print(num_complex)\n"
   ]
  },
  {
   "cell_type": "code",
   "execution_count": 14,
   "metadata": {},
   "outputs": [
    {
     "name": "stdout",
     "output_type": "stream",
     "text": [
      "사칙연산 **********\n",
      "30\n",
      "-10\n",
      "200\n",
      "0.5\n",
      "제곱 **********\n",
      "100\n",
      "1000\n",
      "나눗셈 **********\n",
      "10\n",
      "3\n",
      "1\n"
     ]
    }
   ],
   "source": [
    "# 사칙연산\n",
    "print(\"사칙연산\", \"*\" * 10)\n",
    "print(num1 + num2)\n",
    "print(num1 - num2)\n",
    "print(num1 * num2)\n",
    "print(num1 / num2)\n",
    "\n",
    "# 제곱 \n",
    "print(\"제곱\", \"*\" * 10)\n",
    "print(num1 ** 2)\n",
    "print(num1 ** 3)\n",
    "\n",
    "# 나눗셈의 몫, 나눗셈의 나머지\n",
    "print(\"나눗셈\", \"*\" * 10)\n",
    "print(num1)\n",
    "print(num1 // 3)\n",
    "print(num1 % 3)\n"
   ]
  },
  {
   "cell_type": "code",
   "execution_count": 41,
   "metadata": {},
   "outputs": [
    {
     "name": "stdout",
     "output_type": "stream",
     "text": [
      "72\n",
      "73\n",
      "74\n"
     ]
    }
   ],
   "source": [
    "print(num1) # 10\n",
    "num1 = num1 + 1\n",
    "print(num1) # 11\n",
    "num1 += 1\n",
    "print(num1)"
   ]
  },
  {
   "cell_type": "code",
   "execution_count": 44,
   "metadata": {},
   "outputs": [
    {
     "name": "stdout",
     "output_type": "stream",
     "text": [
      "<class 'int'>\n",
      "<class 'float'>\n",
      "<class 'complex'>\n"
     ]
    }
   ],
   "source": [
    "print(type(num1))\n",
    "print(type(num_float1))\n",
    "print(type(num_complex))"
   ]
  },
  {
   "cell_type": "markdown",
   "metadata": {},
   "source": [
    "hello, \"day1\" python"
   ]
  },
  {
   "cell_type": "code",
   "execution_count": 49,
   "metadata": {},
   "outputs": [
    {
     "name": "stdout",
     "output_type": "stream",
     "text": [
      "hello, \"day1\" python\n"
     ]
    }
   ],
   "source": [
    "message = \"hello, \\\"day1\\\" python\"\n",
    "print(message)"
   ]
  },
  {
   "cell_type": "code",
   "execution_count": 50,
   "metadata": {},
   "outputs": [
    {
     "name": "stdout",
     "output_type": "stream",
     "text": [
      "hello, 'day1' python\n"
     ]
    }
   ],
   "source": [
    "message = 'hello, \\'day1\\' python'\n",
    "print(message)"
   ]
  },
  {
   "cell_type": "code",
   "execution_count": 52,
   "metadata": {},
   "outputs": [
    {
     "name": "stdout",
     "output_type": "stream",
     "text": [
      "\n",
      "hello,\n",
      "python.\n",
      "\n"
     ]
    }
   ],
   "source": [
    "multiline = \"\"\"\n",
    "hello,\n",
    "python.\n",
    "\"\"\"\n",
    "print(multiline)"
   ]
  },
  {
   "cell_type": "code",
   "execution_count": 62,
   "metadata": {},
   "outputs": [
    {
     "name": "stdout",
     "output_type": "stream",
     "text": [
      "hello Python\n",
      "helloPython\n",
      "HELLO\n",
      "python\n",
      "Hey Jude\n",
      "Hey jude\n",
      "hello jude\n"
     ]
    }
   ],
   "source": [
    "w1, w2 = \"hello\", \"Python\"\n",
    "w3 = w1 + w2\n",
    "print(w1, w2)\n",
    "print(w3)\n",
    "print(w1.upper())\n",
    "print(w2.lower())\n",
    "print(\"hey jude\".title())\n",
    "print(\"hey jude\".capitalize())\n",
    "print(\"hey jude\".replace('hey', 'hello'))"
   ]
  },
  {
   "cell_type": "code",
   "execution_count": 66,
   "metadata": {},
   "outputs": [
    {
     "name": "stdout",
     "output_type": "stream",
     "text": [
      "안녕하세요. 이숙번님. 파이썬 수업에 오신 걸 환영합니다. 이숙번 이숙번\n"
     ]
    }
   ],
   "source": [
    "name = '이숙번'\n",
    "수업 = '파이썬' \n",
    "email = \"안녕하세요. {0}님. {1} 수업에 오신 걸 환영합니다. {0} {0}\"\n",
    "\n",
    "print(email.format(name, 수업))"
   ]
  },
  {
   "cell_type": "code",
   "execution_count": 67,
   "metadata": {},
   "outputs": [
    {
     "data": {
      "text/plain": [
       "['__add__',\n",
       " '__class__',\n",
       " '__contains__',\n",
       " '__delattr__',\n",
       " '__dir__',\n",
       " '__doc__',\n",
       " '__eq__',\n",
       " '__format__',\n",
       " '__ge__',\n",
       " '__getattribute__',\n",
       " '__getitem__',\n",
       " '__getnewargs__',\n",
       " '__gt__',\n",
       " '__hash__',\n",
       " '__init__',\n",
       " '__init_subclass__',\n",
       " '__iter__',\n",
       " '__le__',\n",
       " '__len__',\n",
       " '__lt__',\n",
       " '__mod__',\n",
       " '__mul__',\n",
       " '__ne__',\n",
       " '__new__',\n",
       " '__reduce__',\n",
       " '__reduce_ex__',\n",
       " '__repr__',\n",
       " '__rmod__',\n",
       " '__rmul__',\n",
       " '__setattr__',\n",
       " '__sizeof__',\n",
       " '__str__',\n",
       " '__subclasshook__',\n",
       " 'capitalize',\n",
       " 'casefold',\n",
       " 'center',\n",
       " 'count',\n",
       " 'encode',\n",
       " 'endswith',\n",
       " 'expandtabs',\n",
       " 'find',\n",
       " 'format',\n",
       " 'format_map',\n",
       " 'index',\n",
       " 'isalnum',\n",
       " 'isalpha',\n",
       " 'isascii',\n",
       " 'isdecimal',\n",
       " 'isdigit',\n",
       " 'isidentifier',\n",
       " 'islower',\n",
       " 'isnumeric',\n",
       " 'isprintable',\n",
       " 'isspace',\n",
       " 'istitle',\n",
       " 'isupper',\n",
       " 'join',\n",
       " 'ljust',\n",
       " 'lower',\n",
       " 'lstrip',\n",
       " 'maketrans',\n",
       " 'partition',\n",
       " 'replace',\n",
       " 'rfind',\n",
       " 'rindex',\n",
       " 'rjust',\n",
       " 'rpartition',\n",
       " 'rsplit',\n",
       " 'rstrip',\n",
       " 'split',\n",
       " 'splitlines',\n",
       " 'startswith',\n",
       " 'strip',\n",
       " 'swapcase',\n",
       " 'title',\n",
       " 'translate',\n",
       " 'upper',\n",
       " 'zfill']"
      ]
     },
     "execution_count": 67,
     "metadata": {},
     "output_type": "execute_result"
    }
   ],
   "source": [
    "dir(name)"
   ]
  },
  {
   "cell_type": "code",
   "execution_count": 71,
   "metadata": {},
   "outputs": [
    {
     "data": {
      "text/plain": [
       "'0180'"
      ]
     },
     "execution_count": 71,
     "metadata": {},
     "output_type": "execute_result"
    }
   ],
   "source": [
    "\"180\".zfill(4)"
   ]
  },
  {
   "cell_type": "code",
   "execution_count": 73,
   "metadata": {},
   "outputs": [
    {
     "name": "stdout",
     "output_type": "stream",
     "text": [
      "Help on built-in function print in module builtins:\n",
      "\n",
      "print(...)\n",
      "    print(value, ..., sep=' ', end='\\n', file=sys.stdout, flush=False)\n",
      "    \n",
      "    Prints the values to a stream, or to sys.stdout by default.\n",
      "    Optional keyword arguments:\n",
      "    file:  a file-like object (stream); defaults to the current sys.stdout.\n",
      "    sep:   string inserted between values, default a space.\n",
      "    end:   string appended after the last value, default a newline.\n",
      "    flush: whether to forcibly flush the stream.\n",
      "\n"
     ]
    }
   ],
   "source": [
    "help(print)"
   ]
  },
  {
   "cell_type": "code",
   "execution_count": 78,
   "metadata": {},
   "outputs": [
    {
     "name": "stdout",
     "output_type": "stream",
     "text": [
      "hello,python,python,python,python,python이숙번님 환영합니다.\n"
     ]
    }
   ],
   "source": [
    "w1, w2 = 'hello', 'python'\n",
    "print(w1, w2, w2, w2, w2, w2, sep=',', end='')\n",
    "print(\"{0}님 환영합니다.\".format(name))"
   ]
  },
  {
   "cell_type": "code",
   "execution_count": 79,
   "metadata": {},
   "outputs": [],
   "source": [
    "t = True\n",
    "f = False"
   ]
  },
  {
   "cell_type": "code",
   "execution_count": 83,
   "metadata": {},
   "outputs": [
    {
     "name": "stdout",
     "output_type": "stream",
     "text": [
      "False\n",
      "True\n",
      "False\n"
     ]
    }
   ],
   "source": [
    "print(t and f)\n",
    "print(t or f)\n",
    "print(not t)"
   ]
  },
  {
   "cell_type": "code",
   "execution_count": 88,
   "metadata": {},
   "outputs": [
    {
     "name": "stdout",
     "output_type": "stream",
     "text": [
      "False\n",
      "True\n",
      "True\n",
      "False\n",
      "10\n",
      "True\n"
     ]
    }
   ],
   "source": [
    "print(1 > 2) # >=\n",
    "print(1 < 2) # <=\n",
    "print(num == 10)\n",
    "print(num != 10)\n",
    "print(num)\n",
    "\n",
    "print(num > 2 or num < 7)"
   ]
  },
  {
   "cell_type": "code",
   "execution_count": 92,
   "metadata": {},
   "outputs": [
    {
     "name": "stdout",
     "output_type": "stream",
     "text": [
      "True\n",
      "False\n",
      "True\n",
      "False\n"
     ]
    }
   ],
   "source": [
    "w1 = 'hello'\n",
    "\n",
    "print(w1 == 'hello')\n",
    "print(w1 != 'hello')\n",
    "print('l' in w1)\n",
    "print(w1 is None)"
   ]
  },
  {
   "cell_type": "code",
   "execution_count": 95,
   "metadata": {},
   "outputs": [
    {
     "name": "stdin",
     "output_type": "stream",
     "text": [
      "이름을 입력해 주세요. 이숙번\n",
      "이메일을 입력해 주세요. blackdew7@gmail.com\n"
     ]
    },
    {
     "name": "stdout",
     "output_type": "stream",
     "text": [
      "\n",
      "안녕하세요. 이숙번님, 파이썬 수업에 오신 걸 환영합니다.\n",
      "오늘은 첫째날입니다. 이숙번님의 메일주소 blackdew7@gmail.com로 학습내용을 보내드립니다.\n",
      "\n"
     ]
    }
   ],
   "source": [
    "# mail message 내용을 message 변수에 담는다. \n",
    "message = \"\"\"\n",
    "안녕하세요. {0}님, 파이썬 수업에 오신 걸 환영합니다.\n",
    "오늘은 첫째날입니다. {0}님의 메일주소 {1}로 학습내용을 보내드립니다.\n",
    "\"\"\"\n",
    "\n",
    "# 보낼사람의 이름과 이메일주소를 입력을 받는다.\n",
    "# name = '이숙번'\n",
    "# email = 'blackdew7@gmail.com'\n",
    "name = input(\"이름을 입력해 주세요.\")\n",
    "email = input(\"이메일을 입력해 주세요.\")\n",
    "\n",
    "# 메일 내용을 완성해서 출력한다.\n",
    "complete = message.format(name, email)\n",
    "print(complete)"
   ]
  },
  {
   "cell_type": "code",
   "execution_count": 1,
   "metadata": {},
   "outputs": [
    {
     "name": "stdout",
     "output_type": "stream",
     "text": [
      "1번째 메세지입니다.\n",
      "2번째 메세지입니다.\n",
      "3번째 메세지입니다.\n",
      "4번째 메세지입니다.\n",
      "5번째 메세지입니다.\n",
      "6번째 메세지입니다.\n",
      "7번째 메세지입니다.\n",
      "8번째 메세지입니다.\n",
      "9번째 메세지입니다.\n",
      "10번째 종료되었습니다.\n"
     ]
    }
   ],
   "source": [
    "num = 1\n",
    "\n",
    "while num < 10:\n",
    "    print(\"{0}번째 메세지입니다.\".format(num))\n",
    "    num += 1 # num = num + 1\n",
    "    \n",
    "print(\"{0}번째 종료되었습니다.\".format(num))"
   ]
  },
  {
   "cell_type": "code",
   "execution_count": 4,
   "metadata": {},
   "outputs": [
    {
     "name": "stdout",
     "output_type": "stream",
     "text": [
      "12\n",
      "[10, 100, 23, 44, 85, 36, 10]\n",
      "[100, 23, 44, 85, 36, 10]\n",
      "[23, 44, 85, 36, 10]\n"
     ]
    }
   ],
   "source": [
    "# Create\n",
    "my_list = [10, 12, 23, 44, 85, 36]\n",
    "\n",
    "# read\n",
    "print(my_list[1])\n",
    "\n",
    "# update\n",
    "my_list.append(10) # new\n",
    "my_list[1] = 100\n",
    "print(my_list)\n",
    "\n",
    "# delete\n",
    "my_list.remove(10)\n",
    "print(my_list)\n",
    "del my_list[0]\n",
    "print(my_list)"
   ]
  },
  {
   "cell_type": "code",
   "execution_count": null,
   "metadata": {},
   "outputs": [],
   "source": []
  }
 ],
 "metadata": {
  "kernelspec": {
   "display_name": "Python 3",
   "language": "python",
   "name": "python3"
  },
  "language_info": {
   "codemirror_mode": {
    "name": "ipython",
    "version": 3
   },
   "file_extension": ".py",
   "mimetype": "text/x-python",
   "name": "python",
   "nbconvert_exporter": "python",
   "pygments_lexer": "ipython3",
   "version": "3.7.7"
  }
 },
 "nbformat": 4,
 "nbformat_minor": 4
}
