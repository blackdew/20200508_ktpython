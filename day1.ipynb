{
 "cells": [
  {
   "cell_type": "code",
   "execution_count": null,
   "metadata": {},
   "outputs": [],
   "source": [
    "# python 3.0\n",
    "print(\"hello python\")\n",
    "\n",
    "# python 2.0\n",
    "# print \"hello python\""
   ]
  },
  {
   "cell_type": "code",
   "execution_count": 2,
   "metadata": {},
   "outputs": [
    {
     "name": "stdout",
     "output_type": "stream",
     "text": [
      "hello, python\n"
     ]
    }
   ],
   "source": [
    "message = \"hello, python\"\n",
    "print(message)"
   ]
  },
  {
   "cell_type": "code",
   "execution_count": 3,
   "metadata": {},
   "outputs": [
    {
     "name": "stdout",
     "output_type": "stream",
     "text": [
      "hello, python\n"
     ]
    }
   ],
   "source": [
    "print(message)"
   ]
  },
  {
   "cell_type": "code",
   "execution_count": 8,
   "metadata": {},
   "outputs": [
    {
     "name": "stdout",
     "output_type": "stream",
     "text": [
      "10 20\n",
      "10.5 0.12\n",
      "(3+2j)\n"
     ]
    }
   ],
   "source": [
    "# int\n",
    "num1, num2 = 10, 20\n",
    "print(num1, num2)\n",
    "\n",
    "# float\n",
    "num_float1, num_float2 = 10.5, .12\n",
    "print(num_float1, num_float2)\n",
    "\n",
    "# complex\n",
    "num_complex = 3 + 2j\n",
    "print(num_complex)\n"
   ]
  },
  {
   "cell_type": "code",
   "execution_count": 14,
   "metadata": {},
   "outputs": [
    {
     "name": "stdout",
     "output_type": "stream",
     "text": [
      "사칙연산 **********\n",
      "30\n",
      "-10\n",
      "200\n",
      "0.5\n",
      "제곱 **********\n",
      "100\n",
      "1000\n",
      "나눗셈 **********\n",
      "10\n",
      "3\n",
      "1\n"
     ]
    }
   ],
   "source": [
    "# 사칙연산\n",
    "print(\"사칙연산\", \"*\" * 10)\n",
    "print(num1 + num2)\n",
    "print(num1 - num2)\n",
    "print(num1 * num2)\n",
    "print(num1 / num2)\n",
    "\n",
    "# 제곱 \n",
    "print(\"제곱\", \"*\" * 10)\n",
    "print(num1 ** 2)\n",
    "print(num1 ** 3)\n",
    "\n",
    "# 나눗셈의 몫, 나눗셈의 나머지\n",
    "print(\"나눗셈\", \"*\" * 10)\n",
    "print(num1)\n",
    "print(num1 // 3)\n",
    "print(num1 % 3)\n"
   ]
  },
  {
   "cell_type": "code",
   "execution_count": 41,
   "metadata": {},
   "outputs": [
    {
     "name": "stdout",
     "output_type": "stream",
     "text": [
      "72\n",
      "73\n",
      "74\n"
     ]
    }
   ],
   "source": [
    "print(num1) # 10\n",
    "num1 = num1 + 1\n",
    "print(num1) # 11\n",
    "num1 += 1\n",
    "print(num1)"
   ]
  },
  {
   "cell_type": "code",
   "execution_count": 44,
   "metadata": {},
   "outputs": [
    {
     "name": "stdout",
     "output_type": "stream",
     "text": [
      "<class 'int'>\n",
      "<class 'float'>\n",
      "<class 'complex'>\n"
     ]
    }
   ],
   "source": [
    "print(type(num1))\n",
    "print(type(num_float1))\n",
    "print(type(num_complex))"
   ]
  },
  {
   "cell_type": "markdown",
   "metadata": {},
   "source": [
    "hello, \"day1\" python"
   ]
  },
  {
   "cell_type": "code",
   "execution_count": 49,
   "metadata": {},
   "outputs": [
    {
     "name": "stdout",
     "output_type": "stream",
     "text": [
      "hello, \"day1\" python\n"
     ]
    }
   ],
   "source": [
    "message = \"hello, \\\"day1\\\" python\"\n",
    "print(message)"
   ]
  },
  {
   "cell_type": "code",
   "execution_count": 50,
   "metadata": {},
   "outputs": [
    {
     "name": "stdout",
     "output_type": "stream",
     "text": [
      "hello, 'day1' python\n"
     ]
    }
   ],
   "source": [
    "message = 'hello, \\'day1\\' python'\n",
    "print(message)"
   ]
  },
  {
   "cell_type": "code",
   "execution_count": 52,
   "metadata": {},
   "outputs": [
    {
     "name": "stdout",
     "output_type": "stream",
     "text": [
      "\n",
      "hello,\n",
      "python.\n",
      "\n"
     ]
    }
   ],
   "source": [
    "multiline = \"\"\"\n",
    "hello,\n",
    "python.\n",
    "\"\"\"\n",
    "print(multiline)"
   ]
  },
  {
   "cell_type": "code",
   "execution_count": 62,
   "metadata": {},
   "outputs": [
    {
     "name": "stdout",
     "output_type": "stream",
     "text": [
      "hello Python\n",
      "helloPython\n",
      "HELLO\n",
      "python\n",
      "Hey Jude\n",
      "Hey jude\n",
      "hello jude\n"
     ]
    }
   ],
   "source": [
    "w1, w2 = \"hello\", \"Python\"\n",
    "w3 = w1 + w2\n",
    "print(w1, w2)\n",
    "print(w3)\n",
    "print(w1.upper())\n",
    "print(w2.lower())\n",
    "print(\"hey jude\".title())\n",
    "print(\"hey jude\".capitalize())\n",
    "print(\"hey jude\".replace('hey', 'hello'))"
   ]
  },
  {
   "cell_type": "code",
   "execution_count": 66,
   "metadata": {},
   "outputs": [
    {
     "name": "stdout",
     "output_type": "stream",
     "text": [
      "안녕하세요. 이숙번님. 파이썬 수업에 오신 걸 환영합니다. 이숙번 이숙번\n"
     ]
    }
   ],
   "source": [
    "name = '이숙번'\n",
    "수업 = '파이썬' \n",
    "email = \"안녕하세요. {0}님. {1} 수업에 오신 걸 환영합니다. {0} {0}\"\n",
    "\n",
    "print(email.format(name, 수업))"
   ]
  },
  {
   "cell_type": "code",
   "execution_count": 67,
   "metadata": {},
   "outputs": [
    {
     "data": {
      "text/plain": [
       "['__add__',\n",
       " '__class__',\n",
       " '__contains__',\n",
       " '__delattr__',\n",
       " '__dir__',\n",
       " '__doc__',\n",
       " '__eq__',\n",
       " '__format__',\n",
       " '__ge__',\n",
       " '__getattribute__',\n",
       " '__getitem__',\n",
       " '__getnewargs__',\n",
       " '__gt__',\n",
       " '__hash__',\n",
       " '__init__',\n",
       " '__init_subclass__',\n",
       " '__iter__',\n",
       " '__le__',\n",
       " '__len__',\n",
       " '__lt__',\n",
       " '__mod__',\n",
       " '__mul__',\n",
       " '__ne__',\n",
       " '__new__',\n",
       " '__reduce__',\n",
       " '__reduce_ex__',\n",
       " '__repr__',\n",
       " '__rmod__',\n",
       " '__rmul__',\n",
       " '__setattr__',\n",
       " '__sizeof__',\n",
       " '__str__',\n",
       " '__subclasshook__',\n",
       " 'capitalize',\n",
       " 'casefold',\n",
       " 'center',\n",
       " 'count',\n",
       " 'encode',\n",
       " 'endswith',\n",
       " 'expandtabs',\n",
       " 'find',\n",
       " 'format',\n",
       " 'format_map',\n",
       " 'index',\n",
       " 'isalnum',\n",
       " 'isalpha',\n",
       " 'isascii',\n",
       " 'isdecimal',\n",
       " 'isdigit',\n",
       " 'isidentifier',\n",
       " 'islower',\n",
       " 'isnumeric',\n",
       " 'isprintable',\n",
       " 'isspace',\n",
       " 'istitle',\n",
       " 'isupper',\n",
       " 'join',\n",
       " 'ljust',\n",
       " 'lower',\n",
       " 'lstrip',\n",
       " 'maketrans',\n",
       " 'partition',\n",
       " 'replace',\n",
       " 'rfind',\n",
       " 'rindex',\n",
       " 'rjust',\n",
       " 'rpartition',\n",
       " 'rsplit',\n",
       " 'rstrip',\n",
       " 'split',\n",
       " 'splitlines',\n",
       " 'startswith',\n",
       " 'strip',\n",
       " 'swapcase',\n",
       " 'title',\n",
       " 'translate',\n",
       " 'upper',\n",
       " 'zfill']"
      ]
     },
     "execution_count": 67,
     "metadata": {},
     "output_type": "execute_result"
    }
   ],
   "source": [
    "dir(name)"
   ]
  },
  {
   "cell_type": "code",
   "execution_count": 71,
   "metadata": {},
   "outputs": [
    {
     "data": {
      "text/plain": [
       "'0180'"
      ]
     },
     "execution_count": 71,
     "metadata": {},
     "output_type": "execute_result"
    }
   ],
   "source": [
    "\"180\".zfill(4)"
   ]
  },
  {
   "cell_type": "code",
   "execution_count": 73,
   "metadata": {},
   "outputs": [
    {
     "name": "stdout",
     "output_type": "stream",
     "text": [
      "Help on built-in function print in module builtins:\n",
      "\n",
      "print(...)\n",
      "    print(value, ..., sep=' ', end='\\n', file=sys.stdout, flush=False)\n",
      "    \n",
      "    Prints the values to a stream, or to sys.stdout by default.\n",
      "    Optional keyword arguments:\n",
      "    file:  a file-like object (stream); defaults to the current sys.stdout.\n",
      "    sep:   string inserted between values, default a space.\n",
      "    end:   string appended after the last value, default a newline.\n",
      "    flush: whether to forcibly flush the stream.\n",
      "\n"
     ]
    }
   ],
   "source": [
    "help(print)"
   ]
  },
  {
   "cell_type": "code",
   "execution_count": 78,
   "metadata": {},
   "outputs": [
    {
     "name": "stdout",
     "output_type": "stream",
     "text": [
      "hello,python,python,python,python,python이숙번님 환영합니다.\n"
     ]
    }
   ],
   "source": [
    "w1, w2 = 'hello', 'python'\n",
    "print(w1, w2, w2, w2, w2, w2, sep=',', end='')\n",
    "print(\"{0}님 환영합니다.\".format(name))"
   ]
  },
  {
   "cell_type": "code",
   "execution_count": 79,
   "metadata": {},
   "outputs": [],
   "source": [
    "t = True\n",
    "f = False"
   ]
  },
  {
   "cell_type": "code",
   "execution_count": 83,
   "metadata": {},
   "outputs": [
    {
     "name": "stdout",
     "output_type": "stream",
     "text": [
      "False\n",
      "True\n",
      "False\n"
     ]
    }
   ],
   "source": [
    "print(t and f)\n",
    "print(t or f)\n",
    "print(not t)"
   ]
  },
  {
   "cell_type": "code",
   "execution_count": 88,
   "metadata": {},
   "outputs": [
    {
     "name": "stdout",
     "output_type": "stream",
     "text": [
      "False\n",
      "True\n",
      "True\n",
      "False\n",
      "10\n",
      "True\n"
     ]
    }
   ],
   "source": [
    "print(1 > 2) # >=\n",
    "print(1 < 2) # <=\n",
    "print(num == 10)\n",
    "print(num != 10)\n",
    "print(num)\n",
    "\n",
    "print(num > 2 or num < 7)"
   ]
  },
  {
   "cell_type": "code",
   "execution_count": 92,
   "metadata": {},
   "outputs": [
    {
     "name": "stdout",
     "output_type": "stream",
     "text": [
      "True\n",
      "False\n",
      "True\n",
      "False\n"
     ]
    }
   ],
   "source": [
    "w1 = 'hello'\n",
    "\n",
    "print(w1 == 'hello')\n",
    "print(w1 != 'hello')\n",
    "print('l' in w1)\n",
    "print(w1 is None)"
   ]
  },
  {
   "cell_type": "code",
   "execution_count": 95,
   "metadata": {},
   "outputs": [
    {
     "name": "stdin",
     "output_type": "stream",
     "text": [
      "이름을 입력해 주세요. 이숙번\n",
      "이메일을 입력해 주세요. blackdew7@gmail.com\n"
     ]
    },
    {
     "name": "stdout",
     "output_type": "stream",
     "text": [
      "\n",
      "안녕하세요. 이숙번님, 파이썬 수업에 오신 걸 환영합니다.\n",
      "오늘은 첫째날입니다. 이숙번님의 메일주소 blackdew7@gmail.com로 학습내용을 보내드립니다.\n",
      "\n"
     ]
    }
   ],
   "source": [
    "# mail message 내용을 message 변수에 담는다. \n",
    "message = \"\"\"\n",
    "안녕하세요. {0}님, 파이썬 수업에 오신 걸 환영합니다.\n",
    "오늘은 첫째날입니다. {0}님의 메일주소 {1}로 학습내용을 보내드립니다.\n",
    "\"\"\"\n",
    "\n",
    "# 보낼사람의 이름과 이메일주소를 입력을 받는다.\n",
    "# name = '이숙번'\n",
    "# email = 'blackdew7@gmail.com'\n",
    "name = input(\"이름을 입력해 주세요.\")\n",
    "email = input(\"이메일을 입력해 주세요.\")\n",
    "\n",
    "# 메일 내용을 완성해서 출력한다.\n",
    "complete = message.format(name, email)\n",
    "print(complete)"
   ]
  },
  {
   "cell_type": "code",
   "execution_count": 1,
   "metadata": {},
   "outputs": [
    {
     "name": "stdout",
     "output_type": "stream",
     "text": [
      "1번째 메세지입니다.\n",
      "2번째 메세지입니다.\n",
      "3번째 메세지입니다.\n",
      "4번째 메세지입니다.\n",
      "5번째 메세지입니다.\n",
      "6번째 메세지입니다.\n",
      "7번째 메세지입니다.\n",
      "8번째 메세지입니다.\n",
      "9번째 메세지입니다.\n",
      "10번째 종료되었습니다.\n"
     ]
    }
   ],
   "source": [
    "num = 1\n",
    "\n",
    "while num < 10:\n",
    "    print(\"{0}번째 메세지입니다.\".format(num))\n",
    "    num += 1 # num = num + 1\n",
    "    \n",
    "print(\"{0}번째 종료되었습니다.\".format(num))"
   ]
  },
  {
   "cell_type": "code",
   "execution_count": 4,
   "metadata": {},
   "outputs": [
    {
     "name": "stdout",
     "output_type": "stream",
     "text": [
      "12\n",
      "[10, 100, 23, 44, 85, 36, 10]\n",
      "[100, 23, 44, 85, 36, 10]\n",
      "[23, 44, 85, 36, 10]\n"
     ]
    }
   ],
   "source": [
    "# Create\n",
    "my_list = [10, 12, 23, 44, 85, 36]\n",
    "\n",
    "# read\n",
    "print(my_list[1])\n",
    "\n",
    "# update\n",
    "my_list.append(10) # new\n",
    "my_list[1] = 100\n",
    "print(my_list)\n",
    "\n",
    "# delete\n",
    "my_list.remove(10)\n",
    "print(my_list)\n",
    "del my_list[0]\n",
    "print(my_list)"
   ]
  },
  {
   "cell_type": "code",
   "execution_count": 6,
   "metadata": {},
   "outputs": [
    {
     "name": "stdout",
     "output_type": "stream",
     "text": [
      "['__add__', '__class__', '__contains__', '__delattr__', '__delitem__', '__dir__', '__doc__', '__eq__', '__format__', '__ge__', '__getattribute__', '__getitem__', '__gt__', '__hash__', '__iadd__', '__imul__', '__init__', '__init_subclass__', '__iter__', '__le__', '__len__', '__lt__', '__mul__', '__ne__', '__new__', '__reduce__', '__reduce_ex__', '__repr__', '__reversed__', '__rmul__', '__setattr__', '__setitem__', '__sizeof__', '__str__', '__subclasshook__', 'append', 'clear', 'copy', 'count', 'extend', 'index', 'insert', 'pop', 'remove', 'reverse', 'sort']\n"
     ]
    }
   ],
   "source": [
    "print(dir(my_list))"
   ]
  },
  {
   "cell_type": "code",
   "execution_count": 12,
   "metadata": {},
   "outputs": [
    {
     "name": "stdout",
     "output_type": "stream",
     "text": [
      "44\n",
      "[10, 12, 23, 85, 36]\n"
     ]
    }
   ],
   "source": [
    "my_list = [10, 12, 23, 44, 85, 36]\n",
    "\n",
    "a = my_list.pop(3)\n",
    "\n",
    "print(a)\n",
    "print(my_list)"
   ]
  },
  {
   "cell_type": "code",
   "execution_count": 31,
   "metadata": {},
   "outputs": [
    {
     "name": "stdout",
     "output_type": "stream",
     "text": [
      "[10, 12, 23, 85, 36]\n",
      "5\n",
      "36\n",
      "36\n",
      "85\n",
      "23\n",
      "[23, 85]\n",
      "[10, 12, 23, 85]\n",
      "[85, 36]\n",
      "[10, 12, 23]\n",
      "[23, 85, 36]\n",
      "[10, 12, 23, 85, 36]\n"
     ]
    }
   ],
   "source": [
    "print(my_list)\n",
    "print(len(my_list))\n",
    "print(my_list[len(my_list) - 1])\n",
    "print(my_list[-1])\n",
    "print(my_list[-2])\n",
    "print(my_list[-3])\n",
    "\n",
    "# slicing\n",
    "print(my_list[2:4])\n",
    "print(my_list[:4])\n",
    "print(my_list[3:])\n",
    "print(my_list[:-2])\n",
    "print(my_list[-3:])"
   ]
  },
  {
   "cell_type": "code",
   "execution_count": 29,
   "metadata": {},
   "outputs": [
    {
     "name": "stdout",
     "output_type": "stream",
     "text": [
      "l\n",
      "python\n",
      "hello\n"
     ]
    }
   ],
   "source": [
    "w1 = 'hello, python'\n",
    "print(w1[2])\n",
    "print(w1[-6:])\n",
    "print(w1[:5])"
   ]
  },
  {
   "cell_type": "code",
   "execution_count": 38,
   "metadata": {},
   "outputs": [
    {
     "name": "stdout",
     "output_type": "stream",
     "text": [
      "[10, 12, 23, 85, 36]\n",
      "[10, 12, 23, 85, 36]\n",
      "[10, 23, 36]\n",
      "[36, 85, 23, 12, 10]\n",
      "[10, 12, 23, 85, 36]\n",
      "[36, 85, 23, 12, 10]\n"
     ]
    }
   ],
   "source": [
    "# slicing extend\n",
    "# [start:end:step]\n",
    "print(my_list)\n",
    "print(my_list[::1])\n",
    "print(my_list[::2])\n",
    "print(my_list[::-1])\n",
    "print(my_list)\n",
    "my_list.reverse()\n",
    "print(my_list)"
   ]
  },
  {
   "cell_type": "code",
   "execution_count": 46,
   "metadata": {},
   "outputs": [
    {
     "name": "stdout",
     "output_type": "stream",
     "text": [
      "[20, 24, 46, 88, 170, 72]\n",
      "[24, 72]\n",
      "0 10\n",
      "1 12\n",
      "2 23\n",
      "3 44\n",
      "4 85\n",
      "5 36\n",
      "44\n",
      "85\n",
      "36\n"
     ]
    }
   ],
   "source": [
    "my_list = [10, 12, 23, 44, 85, 36]\n",
    "\n",
    "new_list = []\n",
    "for i in my_list:\n",
    "    new_list.append(i * 2)\n",
    "print(new_list)\n",
    "\n",
    "new_list = []\n",
    "for i in my_list:\n",
    "    if i * 2 % 3 == 0:\n",
    "        new_list.append(i * 2)\n",
    "print(new_list)\n",
    "\n",
    "for idx, i in enumerate(my_list):\n",
    "    print(idx, i)\n",
    "    \n",
    "for i in my_list[-3:]:\n",
    "    print(i)"
   ]
  },
  {
   "cell_type": "code",
   "execution_count": 51,
   "metadata": {},
   "outputs": [
    {
     "name": "stdout",
     "output_type": "stream",
     "text": [
      "[10, 12, 14, 16, 18]\n",
      "10\n",
      "12\n",
      "14\n",
      "16\n",
      "18\n"
     ]
    }
   ],
   "source": [
    "print(list(range(10, 20, 2)))\n",
    "for i in range(10, 20, 2):\n",
    "    print(i)"
   ]
  },
  {
   "cell_type": "code",
   "execution_count": 49,
   "metadata": {},
   "outputs": [
    {
     "name": "stdout",
     "output_type": "stream",
     "text": [
      "Help on class range in module builtins:\n",
      "\n",
      "class range(object)\n",
      " |  range(stop) -> range object\n",
      " |  range(start, stop[, step]) -> range object\n",
      " |  \n",
      " |  Return an object that produces a sequence of integers from start (inclusive)\n",
      " |  to stop (exclusive) by step.  range(i, j) produces i, i+1, i+2, ..., j-1.\n",
      " |  start defaults to 0, and stop is omitted!  range(4) produces 0, 1, 2, 3.\n",
      " |  These are exactly the valid indices for a list of 4 elements.\n",
      " |  When step is given, it specifies the increment (or decrement).\n",
      " |  \n",
      " |  Methods defined here:\n",
      " |  \n",
      " |  __bool__(self, /)\n",
      " |      self != 0\n",
      " |  \n",
      " |  __contains__(self, key, /)\n",
      " |      Return key in self.\n",
      " |  \n",
      " |  __eq__(self, value, /)\n",
      " |      Return self==value.\n",
      " |  \n",
      " |  __ge__(self, value, /)\n",
      " |      Return self>=value.\n",
      " |  \n",
      " |  __getattribute__(self, name, /)\n",
      " |      Return getattr(self, name).\n",
      " |  \n",
      " |  __getitem__(self, key, /)\n",
      " |      Return self[key].\n",
      " |  \n",
      " |  __gt__(self, value, /)\n",
      " |      Return self>value.\n",
      " |  \n",
      " |  __hash__(self, /)\n",
      " |      Return hash(self).\n",
      " |  \n",
      " |  __iter__(self, /)\n",
      " |      Implement iter(self).\n",
      " |  \n",
      " |  __le__(self, value, /)\n",
      " |      Return self<=value.\n",
      " |  \n",
      " |  __len__(self, /)\n",
      " |      Return len(self).\n",
      " |  \n",
      " |  __lt__(self, value, /)\n",
      " |      Return self<value.\n",
      " |  \n",
      " |  __ne__(self, value, /)\n",
      " |      Return self!=value.\n",
      " |  \n",
      " |  __reduce__(...)\n",
      " |      Helper for pickle.\n",
      " |  \n",
      " |  __repr__(self, /)\n",
      " |      Return repr(self).\n",
      " |  \n",
      " |  __reversed__(...)\n",
      " |      Return a reverse iterator.\n",
      " |  \n",
      " |  count(...)\n",
      " |      rangeobject.count(value) -> integer -- return number of occurrences of value\n",
      " |  \n",
      " |  index(...)\n",
      " |      rangeobject.index(value) -> integer -- return index of value.\n",
      " |      Raise ValueError if the value is not present.\n",
      " |  \n",
      " |  ----------------------------------------------------------------------\n",
      " |  Static methods defined here:\n",
      " |  \n",
      " |  __new__(*args, **kwargs) from builtins.type\n",
      " |      Create and return a new object.  See help(type) for accurate signature.\n",
      " |  \n",
      " |  ----------------------------------------------------------------------\n",
      " |  Data descriptors defined here:\n",
      " |  \n",
      " |  start\n",
      " |  \n",
      " |  step\n",
      " |  \n",
      " |  stop\n",
      "\n"
     ]
    }
   ],
   "source": [
    "help(range)"
   ]
  },
  {
   "cell_type": "code",
   "execution_count": 52,
   "metadata": {},
   "outputs": [
    {
     "name": "stdout",
     "output_type": "stream",
     "text": [
      "[20, 24, 46, 88, 170, 72]\n",
      "[24, 72]\n"
     ]
    }
   ],
   "source": [
    "# list comprehension\n",
    "my_list = [10, 12, 23, 44, 85, 36]\n",
    "\n",
    "# new_list = []\n",
    "# for i in my_list:\n",
    "#     new_list.append(i * 2)\n",
    "# print(new_list)\n",
    "new_list = [i * 2 for i in my_list]\n",
    "print(new_list)\n",
    "\n",
    "# new_list = []\n",
    "# for i in my_list:\n",
    "#     if i * 2 % 3 == 0:\n",
    "#         new_list.append(i * 2)\n",
    "# print(new_list)\n",
    "new_list = [i * 2 for i in my_list if (i * 2) % 3 == 0]\n",
    "print(new_list)\n"
   ]
  },
  {
   "cell_type": "code",
   "execution_count": 62,
   "metadata": {},
   "outputs": [
    {
     "name": "stdout",
     "output_type": "stream",
     "text": [
      "9\n",
      "75 -77\n",
      "[75, 46, 93, -82, -77, 130, 100, 75, -10, 80]\n",
      "[75, 46, 93]\n",
      "[75, 46, 93, 130, 100, 75, 80]\n",
      "[75, 46, 93, 100, 75, 80]\n",
      "469 78.16666666666667\n",
      "[7.5, 4.6, 9.3, 10.0, 7.5, 8.0]\n"
     ]
    }
   ],
   "source": [
    "score = [75, 46, 93, -82, -77, 130, 100, 75, -10]\n",
    "\n",
    "# score에 들어있는 element의 갯수를 구하시오\n",
    "print(len(score))\n",
    "\n",
    "# 첫번째와 다섯번째 element의 값을 출력하시오.\n",
    "print(score[0], score[4])\n",
    "\n",
    "# 마지막에 숫자 80을 추가하시오\n",
    "score.append(80)\n",
    "print(score)\n",
    "\n",
    "# 첫번째부터 3번째까지의 element를 slice하세요.\n",
    "print(score[:3])\n",
    "\n",
    "# score에서 음수를 제거한 리스트를 score01 변수에 담으세요. \n",
    "score01 = [i for i in score if i >= 0]\n",
    "print(score01)\n",
    "\n",
    "# score01에서 100보다 큰 수를 제외한 리스트를 score02 변수에 담으세요.\n",
    "score02 = [i for i in score01 if i <= 100]\n",
    "print(score02)\n",
    "\n",
    "# score02 리스트의 element들 합과 평균을 구하시요\n",
    "print(sum(score02), sum(score02) / len(score02))\n",
    "\n",
    "# score02 리스트 각 element의 값을 10으로 나눈 값을 갖는 리스트 score03을 만드세요.\n",
    "score03 = [i / 10 for i in score02]\n",
    "print(score03)\n"
   ]
  },
  {
   "cell_type": "code",
   "execution_count": null,
   "metadata": {},
   "outputs": [],
   "source": []
  }
 ],
 "metadata": {
  "kernelspec": {
   "display_name": "Python 3",
   "language": "python",
   "name": "python3"
  },
  "language_info": {
   "codemirror_mode": {
    "name": "ipython",
    "version": 3
   },
   "file_extension": ".py",
   "mimetype": "text/x-python",
   "name": "python",
   "nbconvert_exporter": "python",
   "pygments_lexer": "ipython3",
   "version": "3.7.7"
  }
 },
 "nbformat": 4,
 "nbformat_minor": 4
}
