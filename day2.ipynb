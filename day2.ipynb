{
 "cells": [
  {
   "cell_type": "code",
   "execution_count": 10,
   "metadata": {},
   "outputs": [
    {
     "name": "stdout",
     "output_type": "stream",
     "text": [
      "2\n",
      "(2, 3)\n"
     ]
    }
   ],
   "source": [
    "# tuple\n",
    "\n",
    "# create\n",
    "t = (1, 2, 3, 4, 5)\n",
    "\n",
    "# read\n",
    "print(t[1])\n",
    "print(t[1:3])\n",
    "\n",
    "# update - error\n",
    "# t[1] = 4\n",
    "\n",
    "# delete - error\n",
    "# del t[1]"
   ]
  },
  {
   "cell_type": "code",
   "execution_count": 15,
   "metadata": {},
   "outputs": [
    {
     "name": "stdout",
     "output_type": "stream",
     "text": [
      "(1, 3, 4)\n"
     ]
    }
   ],
   "source": [
    "a = 1, 3, 4\n",
    "print(a)"
   ]
  },
  {
   "cell_type": "code",
   "execution_count": 28,
   "metadata": {},
   "outputs": [
    {
     "name": "stdout",
     "output_type": "stream",
     "text": [
      "[(0, 1), (1, 2), (2, 3)]\n",
      "<enumerate object at 0x10f6eac40>\n",
      "[('a', 1), ('b', 2), ('c', 3)]\n",
      "dict_items([('a', 1), ('b', 2), ('c', 3)])\n",
      "[(1, 'a', 'e'), (2, 'b', 'f'), (3, 'c', 'g')]\n"
     ]
    }
   ],
   "source": [
    "print(list(enumerate([1, 2, 3])))\n",
    "print(enumerate([1, 2, 3]))\n",
    "print(list({'a': 1, 'b': 2, 'c': 3}.items()))\n",
    "print({'a': 1, 'b': 2, 'c': 3}.items())\n",
    "print(list(zip([1, 2, 3], ['a', 'b', 'c'], ['e', 'f', 'g'])))"
   ]
  },
  {
   "cell_type": "code",
   "execution_count": 25,
   "metadata": {},
   "outputs": [
    {
     "name": "stdout",
     "output_type": "stream",
     "text": [
      "True\n",
      "True\n",
      "[1, 2, 3]\n",
      "{'a': 1, 'b': 2, 'c': 3}\n",
      "{'a': 1, 'b': 2, 'c': 3}\n"
     ]
    }
   ],
   "source": [
    "print(int(\"2\") == 2)\n",
    "print(str(2) == \"2\")\n",
    "print(list((1, 2, 3)))\n",
    "print(dict([('a', 1), ('b', 2), ('c', 3)]))\n",
    "print(dict())"
   ]
  },
  {
   "cell_type": "code",
   "execution_count": 47,
   "metadata": {},
   "outputs": [
    {
     "name": "stdout",
     "output_type": "stream",
     "text": [
      "{1, 2, 3, 4, 5}\n",
      "{9, 3, 5, 7}\n",
      "{3, 5}\n",
      "{1, 2, 3, 4, 5, 7, 9}\n",
      "{1, 2, 4}\n",
      "{1, 2, 4}\n",
      "{1: 1, 2: 1, 3: 3, 4: 5, 5: 2, 6: 1, 7: 4}\n"
     ]
    }
   ],
   "source": [
    "# create\n",
    "s1 = {1, 2, 3, 4, 5, 1, 2, 3}\n",
    "print(s1)\n",
    "\n",
    "s2 = {3, 5, 7, 9}\n",
    "print(s2)\n",
    "\n",
    "print(s1.intersection(s2))\n",
    "print(s1.union(s2))\n",
    "print(s1.difference(s2))\n",
    "print(s1 - s2)\n",
    "\n",
    "my_list = [1, 4, 3, 6, 4, 7, 3, 2, 4, 7, 4, 3, 5, 7, 4, 5, 7]\n",
    "print({i: my_list.count(i) for i in set(my_list)})\n"
   ]
  },
  {
   "cell_type": "code",
   "execution_count": 61,
   "metadata": {},
   "outputs": [
    {
     "name": "stdout",
     "output_type": "stream",
     "text": [
      "/Users/sookbunlee/work/dplus/20200508_kypython\n",
      "['hello.py', 'hello1.py', 'web', 'README.md', '.sample', 'day2.ipynb', '.gitignore', '.ipynb_checkpoints', '.git', 'day1.ipynb']\n",
      "['CLD_CONTINUED', 'CLD_DUMPED', 'CLD_EXITED', 'CLD_TRAPPED', 'DirEntry', 'EX_CANTCREAT', 'EX_CONFIG', 'EX_DATAERR', 'EX_IOERR', 'EX_NOHOST', 'EX_NOINPUT', 'EX_NOPERM', 'EX_NOUSER', 'EX_OK', 'EX_OSERR', 'EX_OSFILE', 'EX_PROTOCOL', 'EX_SOFTWARE', 'EX_TEMPFAIL', 'EX_UNAVAILABLE', 'EX_USAGE', 'F_LOCK', 'F_OK', 'F_TEST', 'F_TLOCK', 'F_ULOCK', 'MutableMapping', 'NGROUPS_MAX', 'O_ACCMODE', 'O_APPEND', 'O_ASYNC', 'O_CLOEXEC', 'O_CREAT', 'O_DIRECTORY', 'O_DSYNC', 'O_EXCL', 'O_EXLOCK', 'O_NDELAY', 'O_NOCTTY', 'O_NOFOLLOW', 'O_NONBLOCK', 'O_RDONLY', 'O_RDWR', 'O_SHLOCK', 'O_SYNC', 'O_TRUNC', 'O_WRONLY', 'POSIX_SPAWN_CLOSE', 'POSIX_SPAWN_DUP2', 'POSIX_SPAWN_OPEN', 'PRIO_PGRP', 'PRIO_PROCESS', 'PRIO_USER', 'P_ALL', 'P_NOWAIT', 'P_NOWAITO', 'P_PGID', 'P_PID', 'P_WAIT', 'PathLike', 'RTLD_GLOBAL', 'RTLD_LAZY', 'RTLD_LOCAL', 'RTLD_NODELETE', 'RTLD_NOLOAD', 'RTLD_NOW', 'R_OK', 'SCHED_FIFO', 'SCHED_OTHER', 'SCHED_RR', 'SEEK_CUR', 'SEEK_DATA', 'SEEK_END', 'SEEK_HOLE', 'SEEK_SET', 'ST_NOSUID', 'ST_RDONLY', 'TMP_MAX', 'WCONTINUED', 'WCOREDUMP', 'WEXITED', 'WEXITSTATUS', 'WIFCONTINUED', 'WIFEXITED', 'WIFSIGNALED', 'WIFSTOPPED', 'WNOHANG', 'WNOWAIT', 'WSTOPPED', 'WSTOPSIG', 'WTERMSIG', 'WUNTRACED', 'W_OK', 'X_OK', '_Environ', '__all__', '__builtins__', '__cached__', '__doc__', '__file__', '__loader__', '__name__', '__package__', '__spec__', '_check_methods', '_execvpe', '_exists', '_exit', '_fspath', '_fwalk', '_get_exports_list', '_putenv', '_spawnvef', '_unsetenv', '_wrap_close', 'abc', 'abort', 'access', 'altsep', 'chdir', 'chflags', 'chmod', 'chown', 'chroot', 'close', 'closerange', 'confstr', 'confstr_names', 'cpu_count', 'ctermid', 'curdir', 'defpath', 'device_encoding', 'devnull', 'dup', 'dup2', 'environ', 'environb', 'error', 'execl', 'execle', 'execlp', 'execlpe', 'execv', 'execve', 'execvp', 'execvpe', 'extsep', 'fchdir', 'fchmod', 'fchown', 'fdopen', 'fork', 'forkpty', 'fpathconf', 'fsdecode', 'fsencode', 'fspath', 'fstat', 'fstatvfs', 'fsync', 'ftruncate', 'fwalk', 'get_blocking', 'get_exec_path', 'get_inheritable', 'get_terminal_size', 'getcwd', 'getcwdb', 'getegid', 'getenv', 'getenvb', 'geteuid', 'getgid', 'getgrouplist', 'getgroups', 'getloadavg', 'getlogin', 'getpgid', 'getpgrp', 'getpid', 'getppid', 'getpriority', 'getsid', 'getuid', 'initgroups', 'isatty', 'kill', 'killpg', 'lchflags', 'lchmod', 'lchown', 'linesep', 'link', 'listdir', 'lockf', 'lseek', 'lstat', 'major', 'makedev', 'makedirs', 'minor', 'mkdir', 'mkfifo', 'mknod', 'name', 'nice', 'open', 'openpty', 'pardir', 'path', 'pathconf', 'pathconf_names', 'pathsep', 'pipe', 'popen', 'posix_spawn', 'posix_spawnp', 'pread', 'putenv', 'pwrite', 'read', 'readlink', 'readv', 'register_at_fork', 'remove', 'removedirs', 'rename', 'renames', 'replace', 'rmdir', 'scandir', 'sched_get_priority_max', 'sched_get_priority_min', 'sched_yield', 'sendfile', 'sep', 'set_blocking', 'set_inheritable', 'setegid', 'seteuid', 'setgid', 'setgroups', 'setpgid', 'setpgrp', 'setpriority', 'setregid', 'setreuid', 'setsid', 'setuid', 'spawnl', 'spawnle', 'spawnlp', 'spawnlpe', 'spawnv', 'spawnve', 'spawnvp', 'spawnvpe', 'st', 'stat', 'stat_result', 'statvfs', 'statvfs_result', 'strerror', 'supports_bytes_environ', 'supports_dir_fd', 'supports_effective_ids', 'supports_fd', 'supports_follow_symlinks', 'symlink', 'sync', 'sys', 'sysconf', 'sysconf_names', 'system', 'tcgetpgrp', 'tcsetpgrp', 'terminal_size', 'times', 'times_result', 'truncate', 'ttyname', 'umask', 'uname', 'uname_result', 'unlink', 'unsetenv', 'urandom', 'utime', 'wait', 'wait3', 'wait4', 'waitpid', 'walk', 'write', 'writev']\n"
     ]
    }
   ],
   "source": [
    "import os\n",
    "\n",
    "os.chdir('/Users/sookbunlee/work/dplus/20200508_kypython')\n",
    "print(os.getcwd())\n",
    "print(os.listdir('./'))\n",
    "print(dir(os))"
   ]
  },
  {
   "cell_type": "code",
   "execution_count": 54,
   "metadata": {},
   "outputs": [
    {
     "name": "stdout",
     "output_type": "stream",
     "text": [
      "<!DOCTYPE html>\n",
      "<html>\n",
      "    <head>\n",
      "        <title>WEB-Python</title>\n",
      "        <meta charset=\"utf-8\">\n",
      "        <link rel=\"stylesheet\" href=\"style.css\">\n",
      "    </head>\n",
      "    <body>\n",
      "        <h1><a href=\"index.html\">WEB</a></h1>\n",
      "        <div id=\"container\">\n",
      "            <ol>\n",
      "                <li><a href=\"1.html\">html</a></li>\n",
      "                <li><a href=\"2.html\">css</a></li>\n",
      "                <li><a href=\"3.html\">js</a></li>\n",
      "                <li><a href=\"4.html\">python</a></li>\n",
      "            </ol>\n",
      "            <div>\n",
      "                <h2>Welcome</h2>\n",
      "                Lorem ipsum dolor sit amet consectetur adipisicing elit. Nemo, voluptatem.\n",
      "            </div>    \n",
      "        </div>\n",
      "    </body>\n",
      "</html>\n"
     ]
    }
   ],
   "source": [
    "f = open('./web/index.html', 'r', encoding='utf8')\n",
    "print(f.read())\n",
    "f.close()"
   ]
  },
  {
   "cell_type": "code",
   "execution_count": 4,
   "metadata": {},
   "outputs": [
    {
     "name": "stdout",
     "output_type": "stream",
     "text": [
      "\n",
      "제목: css\n",
      "내용: css is...\n",
      "\n"
     ]
    }
   ],
   "source": [
    "template = \"\"\"\n",
    "제목: {title}\n",
    "내용: {content}\n",
    "\"\"\"\n",
    "\n",
    "print(template.format(content='css is...', title='css'))\n"
   ]
  },
  {
   "cell_type": "code",
   "execution_count": 11,
   "metadata": {},
   "outputs": [
    {
     "name": "stdout",
     "output_type": "stream",
     "text": [
      "\n",
      "제목: css\n",
      "내용: css is...\n",
      "19\n",
      "\n"
     ]
    }
   ],
   "source": [
    "title = 'css'\n",
    "content = 'css is...'\n",
    "\n",
    "template = f\"\"\"\n",
    "제목: {title}\n",
    "내용: {content}\n",
    "{{0}}\n",
    "\"\"\"\n",
    "print(template.format(19))"
   ]
  },
  {
   "cell_type": "code",
   "execution_count": 2,
   "metadata": {},
   "outputs": [
    {
     "name": "stdout",
     "output_type": "stream",
     "text": [
      "abc {0}, {1}\n",
      "abc 10, 20\n"
     ]
    }
   ],
   "source": [
    "text = \"abc {0}, {1}\"\n",
    "\n",
    "print(text)\n",
    "print(text.format(10, 20))\n",
    "\n",
    "text = \"abc {a}, {b}\"\n",
    "\n",
    "print(text)\n",
    "print(text.format(a=10, b=20))\n"
   ]
  },
  {
   "cell_type": "code",
   "execution_count": null,
   "metadata": {},
   "outputs": [],
   "source": []
  }
 ],
 "metadata": {
  "kernelspec": {
   "display_name": "Python 3",
   "language": "python",
   "name": "python3"
  },
  "language_info": {
   "codemirror_mode": {
    "name": "ipython",
    "version": 3
   },
   "file_extension": ".py",
   "mimetype": "text/x-python",
   "name": "python",
   "nbconvert_exporter": "python",
   "pygments_lexer": "ipython3",
   "version": "3.7.7"
  }
 },
 "nbformat": 4,
 "nbformat_minor": 4
}
