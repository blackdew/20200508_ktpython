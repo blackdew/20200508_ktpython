{
 "cells": [
  {
   "cell_type": "code",
   "execution_count": 10,
   "metadata": {},
   "outputs": [
    {
     "name": "stdout",
     "output_type": "stream",
     "text": [
      "2\n",
      "(2, 3)\n"
     ]
    }
   ],
   "source": [
    "# tuple\n",
    "\n",
    "# create\n",
    "t = (1, 2, 3, 4, 5)\n",
    "\n",
    "# read\n",
    "print(t[1])\n",
    "print(t[1:3])\n",
    "\n",
    "# update - error\n",
    "# t[1] = 4\n",
    "\n",
    "# delete - error\n",
    "# del t[1]"
   ]
  },
  {
   "cell_type": "code",
   "execution_count": 15,
   "metadata": {},
   "outputs": [
    {
     "name": "stdout",
     "output_type": "stream",
     "text": [
      "(1, 3, 4)\n"
     ]
    }
   ],
   "source": [
    "a = 1, 3, 4\n",
    "print(a)"
   ]
  },
  {
   "cell_type": "code",
   "execution_count": 28,
   "metadata": {},
   "outputs": [
    {
     "name": "stdout",
     "output_type": "stream",
     "text": [
      "[(0, 1), (1, 2), (2, 3)]\n",
      "<enumerate object at 0x10f6eac40>\n",
      "[('a', 1), ('b', 2), ('c', 3)]\n",
      "dict_items([('a', 1), ('b', 2), ('c', 3)])\n",
      "[(1, 'a', 'e'), (2, 'b', 'f'), (3, 'c', 'g')]\n"
     ]
    }
   ],
   "source": [
    "print(list(enumerate([1, 2, 3])))\n",
    "print(enumerate([1, 2, 3]))\n",
    "print(list({'a': 1, 'b': 2, 'c': 3}.items()))\n",
    "print({'a': 1, 'b': 2, 'c': 3}.items())\n",
    "print(list(zip([1, 2, 3], ['a', 'b', 'c'], ['e', 'f', 'g'])))"
   ]
  },
  {
   "cell_type": "code",
   "execution_count": 25,
   "metadata": {},
   "outputs": [
    {
     "name": "stdout",
     "output_type": "stream",
     "text": [
      "True\n",
      "True\n",
      "[1, 2, 3]\n",
      "{'a': 1, 'b': 2, 'c': 3}\n",
      "{'a': 1, 'b': 2, 'c': 3}\n"
     ]
    }
   ],
   "source": [
    "print(int(\"2\") == 2)\n",
    "print(str(2) == \"2\")\n",
    "print(list((1, 2, 3)))\n",
    "print(dict([('a', 1), ('b', 2), ('c', 3)]))\n",
    "print(dict())"
   ]
  },
  {
   "cell_type": "code",
   "execution_count": 47,
   "metadata": {},
   "outputs": [
    {
     "name": "stdout",
     "output_type": "stream",
     "text": [
      "{1, 2, 3, 4, 5}\n",
      "{9, 3, 5, 7}\n",
      "{3, 5}\n",
      "{1, 2, 3, 4, 5, 7, 9}\n",
      "{1, 2, 4}\n",
      "{1, 2, 4}\n",
      "{1: 1, 2: 1, 3: 3, 4: 5, 5: 2, 6: 1, 7: 4}\n"
     ]
    }
   ],
   "source": [
    "# create\n",
    "s1 = {1, 2, 3, 4, 5, 1, 2, 3}\n",
    "print(s1)\n",
    "\n",
    "s2 = {3, 5, 7, 9}\n",
    "print(s2)\n",
    "\n",
    "print(s1.intersection(s2))\n",
    "print(s1.union(s2))\n",
    "print(s1.difference(s2))\n",
    "print(s1 - s2)\n",
    "\n",
    "my_list = [1, 4, 3, 6, 4, 7, 3, 2, 4, 7, 4, 3, 5, 7, 4, 5, 7]\n",
    "print({i: my_list.count(i) for i in set(my_list)})\n"
   ]
  },
  {
   "cell_type": "code",
   "execution_count": 54,
   "metadata": {},
   "outputs": [
    {
     "name": "stdout",
     "output_type": "stream",
     "text": [
      "<!DOCTYPE html>\n",
      "<html>\n",
      "    <head>\n",
      "        <title>WEB-Python</title>\n",
      "        <meta charset=\"utf-8\">\n",
      "        <link rel=\"stylesheet\" href=\"style.css\">\n",
      "    </head>\n",
      "    <body>\n",
      "        <h1><a href=\"index.html\">WEB</a></h1>\n",
      "        <div id=\"container\">\n",
      "            <ol>\n",
      "                <li><a href=\"1.html\">html</a></li>\n",
      "                <li><a href=\"2.html\">css</a></li>\n",
      "                <li><a href=\"3.html\">js</a></li>\n",
      "                <li><a href=\"4.html\">python</a></li>\n",
      "            </ol>\n",
      "            <div>\n",
      "                <h2>Welcome</h2>\n",
      "                Lorem ipsum dolor sit amet consectetur adipisicing elit. Nemo, voluptatem.\n",
      "            </div>    \n",
      "        </div>\n",
      "    </body>\n",
      "</html>\n"
     ]
    }
   ],
   "source": [
    "f = open('./web/index.html', 'r', encoding='utf8')\n",
    "print(f.read())\n",
    "f.close()"
   ]
  },
  {
   "cell_type": "code",
   "execution_count": null,
   "metadata": {},
   "outputs": [],
   "source": []
  }
 ],
 "metadata": {
  "kernelspec": {
   "display_name": "Python 3",
   "language": "python",
   "name": "python3"
  },
  "language_info": {
   "codemirror_mode": {
    "name": "ipython",
    "version": 3
   },
   "file_extension": ".py",
   "mimetype": "text/x-python",
   "name": "python",
   "nbconvert_exporter": "python",
   "pygments_lexer": "ipython3",
   "version": "3.8.2"
  }
 },
 "nbformat": 4,
 "nbformat_minor": 4
}
