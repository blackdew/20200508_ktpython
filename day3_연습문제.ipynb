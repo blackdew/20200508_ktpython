{
 "cells": [
  {
   "cell_type": "code",
   "execution_count": 3,
   "metadata": {},
   "outputs": [
    {
     "output_type": "stream",
     "name": "stdout",
     "text": "7 * 1 = 7\n7 * 2 = 14\n7 * 3 = 21\n7 * 4 = 28\n7 * 5 = 35\n7 * 6 = 42\n7 * 7 = 49\n7 * 8 = 56\n7 * 9 = 63\n"
    }
   ],
   "source": [
    "# 사용자로부터 2 ~ 9 사이의 숫자를 입력 받은 후, 해당 숫자에 대한 구구단을 출력하세요.\n",
    "# /gugu/<number>\n",
    "\n",
    "while True:\n",
    "    num = input(\"숫자를 입력하세요\")\n",
    "    if num.isnumeric():\n",
    "        num = int(num)\n",
    "        break\n",
    "\n",
    "# gugu_list = []\n",
    "# for i in range(1, 10):\n",
    "#     gugu_list.append(f\"{num} * {i} = {i * num}\")\n",
    "    \n",
    "gugu_list = [f\"{num} * {i} = {i * num}\" for i in range(1, 10)]\n",
    "print('\\n'.join(gugu_list))"
   ]
  },
  {
   "cell_type": "code",
   "execution_count": 5,
   "metadata": {},
   "outputs": [
    {
     "output_type": "stream",
     "name": "stdout",
     "text": "[2, 3, 5, 7, 11, 13, 17, 19, 23, 29, 31, 37, 41, 43, 47, 53, 59, 61, 67, 71, 73, 79, 83, 89, 97, 101, 103, 107, 109, 113, 127, 131, 137, 139, 149, 151, 157, 163, 167, 173, 179, 181, 191, 193, 197, 199, 211, 223, 227, 229, 233, 239, 241, 251, 257, 263, 269, 271, 277, 281, 283, 293, 307, 311, 313, 317, 331, 337, 347, 349, 353, 359, 367, 373, 379, 383, 389, 397, 401, 409, 419, 421, 431, 433, 439, 443, 449, 457, 461, 463, 467, 479, 487, 491, 499, 503, 509, 521, 523, 541, 547, 557, 563, 569, 571, 577, 587, 593, 599, 601, 607, 613, 617, 619, 631, 641, 643, 647, 653, 659, 661, 673, 677, 683, 691, 701, 709, 719, 727, 733, 739, 743, 751, 757, 761, 769, 773, 787, 797, 809, 811, 821, 823, 827, 829, 839, 853, 857, 859, 863, 877, 881, 883, 887, 907, 911, 919, 929, 937, 941, 947, 953, 967, 971, 977, 983, 991, 997]\n"
    }
   ],
   "source": [
    "# 사용자로부터 숫자를 N을 입력받은 후 1부터 N까지의 숫자 중 소수만 출력하세요.\n",
    "# /prime?num=N\n",
    "\n",
    "while True:\n",
    "    num = input(\"숫자를 입력하세요\")\n",
    "    if num.isnumeric():\n",
    "        num = int(num)\n",
    "        break\n",
    "\n",
    "# 2~num 숫자리스트 numbers\n",
    "numbers = list(range(2, num))\n",
    "\n",
    "# primes 빈리스트 \n",
    "primes = []\n",
    "\n",
    "# 반복 numbers가 빌때까지\n",
    "while len(numbers) > 0:\n",
    "    # numbers의 처음 요소를 꺼내서 primes 넣어줍니다. \n",
    "    primes.append(numbers.pop(0))\n",
    "    # numbers primes의 마지막 요소들의 배수를 모두 지워줍니다.\n",
    "    numbers = [n for n in numbers if n % primes[-1] != 0]\n",
    "\n",
    "#primes는 소수만 남는다.\n",
    "print(primes)"
   ]
  },
  {
   "cell_type": "code",
   "execution_count": 8,
   "metadata": {},
   "outputs": [
    {
     "output_type": "stream",
     "name": "stdout",
     "text": "[1, 2, 4, 5, 10, 20, 25, 50, 100]\n"
    }
   ],
   "source": [
    "# 사용자로부터 숫자를 N을 입력받아. N의 약수를 모두 출력하세요. \n",
    "# /common_factor?num=N\n",
    "\n",
    "while True:\n",
    "    num = input(\"숫자를 입력하세요\")\n",
    "    if num.isnumeric():\n",
    "        num = int(num)\n",
    "        break\n",
    "\n",
    "# 1 ~ num까지의 리스트를 만든다.\n",
    "numbers = list(range(1, num + 1))\n",
    "# num을 나누어 떨어뜨리는 수만 남긴다.\n",
    "numbers = [n for n in numbers if num % n == 0]\n",
    "\n",
    "# numbers = [n for n in list(range(1, num + 1)) if num % n == 0]\n",
    "\n",
    "print(numbers)"
   ]
  },
  {
   "cell_type": "code",
   "execution_count": 11,
   "metadata": {},
   "outputs": [
    {
     "output_type": "stream",
     "name": "stdout",
     "text": "최대공약수:  25\n최소공배수:  150\n"
    }
   ],
   "source": [
    "# 사용자로부터 숫자를 N, M을 입력받아 N과 M의 최대공약수와 최소공배수를 출력하세요. \n",
    "# /commons?num1=N&num2=M\n",
    "\n",
    "while True:\n",
    "    num1 = input(\"숫자1를 입력하세요\")\n",
    "    num2 = input(\"숫자2를 입력하세요\")\n",
    "    if num1.isnumeric() and num2.isnumeric():\n",
    "        num1 = int(num1)\n",
    "        num2 = int(num2)\n",
    "        break\n",
    "\n",
    "m1 = set([n for n in list(range(1, num1 + 1)) if num1 % n == 0])\n",
    "m2 = set([n for n in list(range(1, num2 + 1)) if num2 % n == 0])\n",
    "print(\"최대공약수: \", max(m1.intersection(m2)))\n",
    "\n",
    "# m1, m2 중에 큰수 ~ m1 * m2 사이의 숫자를 리스트로 만듭니다. \n",
    "m3 = list(range(max(num1, num2), num1 * num2))\n",
    "# 위 리스트 중에 m1과 m2로 나누어 떨어지는 수들의 집합\n",
    "m3 = [n for n in m3 if n % num1 == 0 and n % num2 == 0] \n",
    "# 위 집합의 최소값이 최소공배수\n",
    "print(\"최소공배수: \", min(m3))\n"
   ]
  },
  {
   "cell_type": "code",
   "execution_count": 13,
   "metadata": {},
   "outputs": [
    {
     "output_type": "stream",
     "name": "stdout",
     "text": "{50: 3, 25: 1, 10: 1, 5: 0, 1: 2}\n"
    }
   ],
   "source": [
    "# 사용자로부터 숫자를 N을 입력받아, 1, 5, 10, 25, 50의 숫자를 이용하여 최소 갯수로 N을 표현해보자 \n",
    "# 예) 183 = 50 * 3 + 25 * 1 + 5 * 1 + 1 * 3 => 총 8개\n",
    "# /coins?num=N\n",
    "\n",
    "while True:\n",
    "    num = input(\"숫자를 입력하세요\")\n",
    "    if num.isnumeric():\n",
    "        num = int(num)\n",
    "        break\n",
    "\n",
    "coins = {50: 0, 25: 0 , 10: 0, 5: 0, 1: 0}\n",
    "for coin in sorted(coins.keys(), reverse=True):\n",
    "    coins[coin] = num // coin\n",
    "    num = num % coin\n",
    "\n",
    "print(coins)"
   ]
  },
  {
   "cell_type": "code",
   "execution_count": 15,
   "metadata": {},
   "outputs": [
    {
     "output_type": "execute_result",
     "data": {
      "text/plain": "True"
     },
     "metadata": {},
     "execution_count": 15
    }
   ],
   "source": [
    "# 주민등록번호를 입력받아 올바른 주민번호인지 검증하라.\n",
    "# 주민번호 : ① ② ③ ④ ⑤ ⑥ - ⑦ ⑧ ⑨ ⑩ ⑪ ⑫ ⑬\n",
    "# 합계 \n",
    "# = 마지막수를 제외한 12자리의 숫자에 2,3,4,5,6,7,8,9,2,3,4,5 를 순서대로 곱산수의 합\n",
    "# = ①×2 + ②×3 + ③×4 + ④×5 + ⑤×6 + ⑥×7 + ⑦×8 + ⑧×9 + ⑨×2 + ⑩×3 + ⑪×4 + ⑫×5\n",
    "# 나머지 = 합계를 11로 나눈 나머지\n",
    "# 검증코드 = 11 - 나머지\n",
    "# 여기서 검증코드가 ⑬자리에 들어 갑니다.\n",
    "#\n",
    "# /jumin \n",
    "# with form post\n",
    "\n",
    "def verify_jumin(serial):\n",
    "    verify = [2, 3, 4, 5, 6, 7, 8, 9, 2, 3, 4, 5]\n",
    "    serial = [int(s) for s in serial.replace('-', '')]\n",
    "\n",
    "    verify_num = sum([v * s for v, s in zip(verify, serial[:-1])])\n",
    "    verify_num = (11 - (verify_num % 11)) % 10\n",
    "\n",
    "    return verify_num == serial[-1]\n",
    "\n",
    "verify_jumin('101010-2020200')"
   ]
  },
  {
   "cell_type": "code",
   "execution_count": 16,
   "metadata": {},
   "outputs": [
    {
     "output_type": "stream",
     "name": "stdout",
     "text": "3.141592653589793\n"
    }
   ],
   "source": [
    "# 원의 원주율을 구해보자\n",
    "# /pi\n",
    "\n",
    "import math\n",
    "print(math.pi)"
   ]
  },
  {
   "cell_type": "code",
   "execution_count": 48,
   "metadata": {},
   "outputs": [
    {
     "output_type": "stream",
     "name": "stdout",
     "text": "0.9706990627147235\n3.1407716\n"
    }
   ],
   "source": [
    "# 확률, 몬테카를로 방식\n",
    "\n",
    "import random\n",
    "# 0 ~ 1 사이의 랜덤값\n",
    "# print(random.random())\n",
    "\n",
    "number = 10000000\n",
    "\n",
    "# 랜덤하게 뽑는 (x, y) 값이 x ** 2 + y ** 2 < 1\n",
    "points = [(random.random() ** 2 + random.random() ** 2) < 1 for i in range(number)]\n",
    "area = 4 * (sum(points) / len(points))\n",
    "print(area)"
   ]
  },
  {
   "cell_type": "code",
   "execution_count": 53,
   "metadata": {},
   "outputs": [
    {
     "output_type": "stream",
     "name": "stdout",
     "text": "3.1415928535523587\n"
    }
   ],
   "source": [
    "# 적분\n",
    "\n",
    "number = 1000_0000\n",
    "# x축의 리스트\n",
    "xs = [i / number for i in list(range(number))]\n",
    "# dx \n",
    "dx = 1 / number\n",
    "\n",
    "# x축을 기준으로 각 포인트의 면적을 구해서 더합니다.\n",
    "areas = [dx * (math.sqrt(1 - x ** 2)) for x in xs]\n",
    "print(sum(areas) * 4)\n"
   ]
  },
  {
   "cell_type": "code",
   "execution_count": 55,
   "metadata": {},
   "outputs": [
    {
     "output_type": "stream",
     "name": "stdout",
     "text": "3.141583104230963\n"
    }
   ],
   "source": [
    "# 오일러\n",
    "\n",
    "number = 100000\n",
    "numbers = [1 / (n ** 2) for n in list(range(1, number))]\n",
    "pi = math.sqrt(sum(numbers) * 6)\n",
    "\n",
    "print(pi)"
   ]
  },
  {
   "cell_type": "code",
   "execution_count": null,
   "metadata": {},
   "outputs": [],
   "source": [
    "#"
   ]
  }
 ],
 "metadata": {
  "kernelspec": {
   "display_name": "Python 3.8.2 64-bit ('.python-basic': venv)",
   "language": "python",
   "name": "python38264bitpythonbasicvenv4ca9685559544b688a5eee9c5b5ddb19"
  },
  "language_info": {
   "codemirror_mode": {
    "name": "ipython",
    "version": 3
   },
   "file_extension": ".py",
   "mimetype": "text/x-python",
   "name": "python",
   "nbconvert_exporter": "python",
   "pygments_lexer": "ipython3",
   "version": "3.8.2-final"
  }
 },
 "nbformat": 4,
 "nbformat_minor": 4
}