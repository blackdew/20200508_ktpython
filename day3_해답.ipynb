{
 "cells": [
  {
   "cell_type": "code",
   "execution_count": 1,
   "metadata": {},
   "outputs": [
    {
     "name": "stdin",
     "output_type": "stream",
     "text": [
      "숫자를 입력하세요 1\n"
     ]
    },
    {
     "name": "stdout",
     "output_type": "stream",
     "text": [
      "1 * 1 = 1\n",
      "1 * 2 = 2\n",
      "1 * 3 = 3\n",
      "1 * 4 = 4\n",
      "1 * 5 = 5\n",
      "1 * 6 = 6\n",
      "1 * 7 = 7\n",
      "1 * 8 = 8\n",
      "1 * 9 = 9\n"
     ]
    }
   ],
   "source": [
    "# 사용자로부터 2 ~ 9 사이의 숫자를 입력 받은 후, 해당 숫자에 대한 구구단을 출력하세요.\n",
    "# /gugu/<number>\n",
    "\n",
    "while True:\n",
    "    number = input('숫자를 입력하세요')\n",
    "    if number.isnumeric():\n",
    "        number = int(number)\n",
    "        break\n",
    "\n",
    "gugu = [f\"{number} * {n} = {(number * n)}\" \n",
    "        for n in range(1, 10)]\n",
    "print('\\n'.join(gugu))\n"
   ]
  },
  {
   "cell_type": "code",
   "execution_count": 16,
   "metadata": {},
   "outputs": [
    {
     "name": "stdout",
     "output_type": "stream",
     "text": [
      "[99877, 99881, 99901, 99907, 99923, 99929, 99961, 99971, 99989, 99991]\n"
     ]
    }
   ],
   "source": [
    "# 사용자로부터 숫자를 N을 입력받은 후 1부터 N까지의 숫자 중 소수만 출력하세요.\n",
    "# /prime?num=N\n",
    "\n",
    "while True:\n",
    "    number = input('숫자를 입력하세요')\n",
    "    if number.isnumeric():\n",
    "        number = int(number)\n",
    "        break\n",
    "\n",
    "primes = []\n",
    "numbers = list(range(2, number))\n",
    "while len(numbers) > 0:\n",
    "    # 제일 처음 요소는 소수\n",
    "    primes.append(numbers.pop(0))\n",
    "    # 소수의 배수에 해당하는 값을 리스트에서 제외\n",
    "    numbers = [n for n in numbers if n % primes[-1] != 0]\n",
    "\n",
    "print(primes[-10:])"
   ]
  },
  {
   "cell_type": "code",
   "execution_count": 17,
   "metadata": {},
   "outputs": [
    {
     "name": "stdout",
     "output_type": "stream",
     "text": [
      "[2, 4, 5, 10, 20, 25, 50]\n"
     ]
    }
   ],
   "source": [
    "# 사용자로부터 숫자를 N을 입력받아. N의 약수를 모두 출력하세요. \n",
    "# /common_factor?num=N\n",
    "\n",
    "while True:\n",
    "    number = input('숫자를 입력하세요')\n",
    "    if number.isnumeric():\n",
    "        number = int(number)\n",
    "        break\n",
    "\n",
    "common_factor = list(range(2, number))\n",
    "common_factor = [n for n in common_factor if number % n == 0]\n",
    "print(common_factor)"
   ]
  },
  {
   "cell_type": "code",
   "execution_count": 23,
   "metadata": {},
   "outputs": [
    {
     "name": "stdout",
     "output_type": "stream",
     "text": [
      "최대공약수: 25\n",
      "최소공배수: 75\n"
     ]
    }
   ],
   "source": [
    "# 사용자로부터 숫자를 N, M을 입력받아 N과 M의 최대공약수와 최소공배수를 출력하세요. \n",
    "# /commons?num1=N&num2=M\n",
    "while True:\n",
    "    num1 = input('숫자1을 입력하세요')\n",
    "    num2 = input('숫자2를 입력하세요')\n",
    "    if num1.isnumeric() and num2.isnumeric():\n",
    "        num1 = int(num1)\n",
    "        num2 = int(num2)\n",
    "        break\n",
    "\n",
    "# m1은 num1의 약수의 집합\n",
    "m1 = set([n for n in list(range(2, num1)) if num1 % n == 0])\n",
    "# m2은 num2의 약수의 집합\n",
    "m2 = set([n for n in list(range(2, num2)) if num2 % n == 0])\n",
    "# m1, m2의 교집함 중 최대값\n",
    "print(f\"최대공약수: {max(m1.intersection(m2))}\")\n",
    "\n",
    "num3 = num1 * num2\n",
    "# num1, num2 중 큰 값부터 num3 사이의 값\n",
    "numbers = list(range(max(num1, num2), num3)) \n",
    "# numbers 중에, num1과 num2로 나누어 떨어지는 수만 남김\n",
    "m3 = [n for n in numbers if num3 % num1 == 0 and num3 % num2 == 0]\n",
    "# 남은 값들 중의 최소값\n",
    "print(f\"최소공배수: {min(m3)}\")\n"
   ]
  },
  {
   "cell_type": "code",
   "execution_count": 1,
   "metadata": {},
   "outputs": [
    {
     "name": "stdout",
     "output_type": "stream",
     "text": [
      "{50: 3, 25: 1, 10: 1, 5: 0, 1: 2}\n"
     ]
    }
   ],
   "source": [
    "# 사용자로부터 숫자를 N을 입력받아, 1, 5, 10, 25, 50의 숫자를 이용하여 최소 갯수로 N을 표현해보자 \n",
    "# 예) 183 = 50 * 3 + 25 * 1 + 5 * 1 + 1 * 3 => 총 8개\n",
    "# /coins?num=N\n",
    "\n",
    "while True:\n",
    "    number = input('숫자를 입력하세요')\n",
    "    if number.isnumeric():\n",
    "        number = int(number)\n",
    "        break\n",
    "\n",
    "coins = {50: 0, 25: 0, 10: 0, 5: 0, 1: 0}\n",
    "\n",
    "# 큰 코인 부터 하나씩 꺼냄 (반복)\n",
    "for coin in sorted(coins.keys(), reverse=True):\n",
    "    coins[coin] = number // coin\n",
    "    number %= coin\n",
    "\n",
    "print(coins)"
   ]
  },
  {
   "cell_type": "code",
   "execution_count": 69,
   "metadata": {},
   "outputs": [
    {
     "data": {
      "text/plain": [
       "True"
      ]
     },
     "execution_count": 69,
     "metadata": {},
     "output_type": "execute_result"
    }
   ],
   "source": [
    "# 주민등록번호를 입력받아 올바른 주민번호인지 검증하라.\n",
    "# 주민번호 : ① ② ③ ④ ⑤ ⑥ - ⑦ ⑧ ⑨ ⑩ ⑪ ⑫ ⑬\n",
    "# 합계 \n",
    "# = 마지막수를 제외한 12자리의 숫자에 2,3,4,5,6,7,8,9,2,3,4,5 를 순서대로 곱산수의 합\n",
    "# = ①×2 + ②×3 + ③×4 + ④×5 + ⑤×6 + ⑥×7 + ⑦×8 + ⑧×9 + ⑨×2 + ⑩×3 + ⑪×4 + ⑫×5\n",
    "# 나머지 = 합계를 11로 나눈 나머지\n",
    "# 검증코드 = 11 - 나머지\n",
    "# 여기서 검증코드가 ⑬자리에 들어 갑니다.\n",
    "#\n",
    "# /jumin \n",
    "# with form post\n",
    "\n",
    "def verify_jumin(serial):\n",
    "    verify = [2, 3, 4, 5, 6, 7, 8, 9, 2, 3, 4, 5]\n",
    "    serial = [int(s) for s in serial.replace('-', '')]\n",
    "    \n",
    "    verify = sum([s * v for s, v in zip(serial[:-1], verify)])\n",
    "    verify = (11 - (verify % 11)) % 10\n",
    "\n",
    "    return verify == serial[-1]\n",
    "\n",
    "verify_jumin('791227-1021210')"
   ]
  },
  {
   "cell_type": "code",
   "execution_count": 87,
   "metadata": {},
   "outputs": [
    {
     "name": "stdout",
     "output_type": "stream",
     "text": [
      "3.141592653589793\n",
      "3.1415946524138207\n"
     ]
    }
   ],
   "source": [
    "# 원의 원주율을 구해보자\n",
    "# /pi\n",
    "\n",
    "print(math.pi)\n",
    "\n",
    "# 적분\n",
    "import math\n",
    "number = 1_000_000\n",
    "\n",
    "xs = [i / number for i in range(0, number)]\n",
    "dx = 1 / number\n",
    "area = sum([(math.sqrt(1 - x ** 2)) * dx for x in xs])\n",
    "print(area * 4)\n"
   ]
  },
  {
   "cell_type": "code",
   "execution_count": 119,
   "metadata": {},
   "outputs": [
    {
     "name": "stdout",
     "output_type": "stream",
     "text": [
      "3.1421256\n"
     ]
    }
   ],
   "source": [
    "# 확률\n",
    "import random\n",
    "number = 10_000_000\n",
    "\n",
    "points = [(random.random() ** 2 + random.random() ** 2 < 1) for i in range(number)]\n",
    "print(4 * sum(points) / len(points))"
   ]
  },
  {
   "cell_type": "code",
   "execution_count": 8,
   "metadata": {},
   "outputs": [
    {
     "name": "stdout",
     "output_type": "stream",
     "text": [
      "3.141592558095893\n"
     ]
    }
   ],
   "source": [
    "# 오일러\n",
    "\n",
    "import math\n",
    "\n",
    "n = 10000000\n",
    "pi = math.sqrt(sum([1 / (i ** 2) for i in range(1, n)]) * 6)\n",
    "print(pi)"
   ]
  },
  {
   "cell_type": "code",
   "execution_count": null,
   "metadata": {},
   "outputs": [],
   "source": []
  }
 ],
 "metadata": {
  "kernelspec": {
   "display_name": "Python 3",
   "language": "python",
   "name": "python3"
  },
  "language_info": {
   "codemirror_mode": {
    "name": "ipython",
    "version": 3
   },
   "file_extension": ".py",
   "mimetype": "text/x-python",
   "name": "python",
   "nbconvert_exporter": "python",
   "pygments_lexer": "ipython3",
   "version": "3.7.7"
  }
 },
 "nbformat": 4,
 "nbformat_minor": 4
}
