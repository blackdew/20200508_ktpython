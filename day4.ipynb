{
 "cells": [
  {
   "cell_type": "code",
   "execution_count": 1,
   "metadata": {},
   "outputs": [],
   "source": [
    "text = 'let it be'"
   ]
  },
  {
   "cell_type": "code",
   "execution_count": 3,
   "metadata": {},
   "outputs": [
    {
     "name": "stdout",
     "output_type": "stream",
     "text": [
      "['__add__', '__class__', '__contains__', '__delattr__', '__dir__', '__doc__', '__eq__', '__format__', '__ge__', '__getattribute__', '__getitem__', '__getnewargs__', '__gt__', '__hash__', '__init__', '__init_subclass__', '__iter__', '__le__', '__len__', '__lt__', '__mod__', '__mul__', '__ne__', '__new__', '__reduce__', '__reduce_ex__', '__repr__', '__rmod__', '__rmul__', '__setattr__', '__sizeof__', '__str__', '__subclasshook__', 'capitalize', 'casefold', 'center', 'count', 'encode', 'endswith', 'expandtabs', 'find', 'format', 'format_map', 'index', 'isalnum', 'isalpha', 'isascii', 'isdecimal', 'isdigit', 'isidentifier', 'islower', 'isnumeric', 'isprintable', 'isspace', 'istitle', 'isupper', 'join', 'ljust', 'lower', 'lstrip', 'maketrans', 'partition', 'replace', 'rfind', 'rindex', 'rjust', 'rpartition', 'rsplit', 'rstrip', 'split', 'splitlines', 'startswith', 'strip', 'swapcase', 'title', 'translate', 'upper', 'zfill']\n"
     ]
    }
   ],
   "source": [
    "print(dir(text))"
   ]
  },
  {
   "cell_type": "code",
   "execution_count": 4,
   "metadata": {},
   "outputs": [
    {
     "name": "stdout",
     "output_type": "stream",
     "text": [
      "Help on built-in function zfill:\n",
      "\n",
      "zfill(width, /) method of builtins.str instance\n",
      "    Pad a numeric string with zeros on the left, to fill a field of the given width.\n",
      "    \n",
      "    The string is never truncated.\n",
      "\n"
     ]
    }
   ],
   "source": [
    "help(text.zfill)"
   ]
  },
  {
   "cell_type": "code",
   "execution_count": 6,
   "metadata": {},
   "outputs": [
    {
     "name": "stdout",
     "output_type": "stream",
     "text": [
      "let it be\n",
      "find\n"
     ]
    }
   ],
   "source": [
    "print(text)\n",
    "\n",
    "if text.find('let'):\n",
    "    print('find')\n",
    "else:\n",
    "    print('not found')"
   ]
  },
  {
   "cell_type": "code",
   "execution_count": 11,
   "metadata": {},
   "outputs": [
    {
     "data": {
      "text/plain": [
       "'[1, 2, 3] abc'"
      ]
     },
     "execution_count": 11,
     "metadata": {},
     "output_type": "execute_result"
    }
   ],
   "source": [
    "\"{0} abc\".format([1, 2, 3])"
   ]
  },
  {
   "cell_type": "code",
   "execution_count": 12,
   "metadata": {},
   "outputs": [
    {
     "data": {
      "text/plain": [
       "{' ', 'c', 'd', 'i', 'n', 'o', 'r', 't', 'u', 'w'}"
      ]
     },
     "execution_count": 12,
     "metadata": {},
     "output_type": "execute_result"
    }
   ],
   "source": [
    "set(\"word count dict word\")"
   ]
  },
  {
   "cell_type": "code",
   "execution_count": 13,
   "metadata": {},
   "outputs": [
    {
     "data": {
      "text/plain": [
       "{'count', 'dict', 'word'}"
      ]
     },
     "execution_count": 13,
     "metadata": {},
     "output_type": "execute_result"
    }
   ],
   "source": [
    "set([\"word\", \"count\", \"dict\", \"word\"])"
   ]
  },
  {
   "cell_type": "code",
   "execution_count": 14,
   "metadata": {},
   "outputs": [
    {
     "name": "stdout",
     "output_type": "stream",
     "text": [
      "16\n",
      "256\n"
     ]
    }
   ],
   "source": [
    "def sqare(x):\n",
    "    return x ** 2\n",
    "\n",
    "square = lambda x: x ** 2\n",
    "\n",
    "print(square(4))\n",
    "print(square(16))"
   ]
  },
  {
   "cell_type": "code",
   "execution_count": 16,
   "metadata": {},
   "outputs": [
    {
     "name": "stdout",
     "output_type": "stream",
     "text": [
      "3\n",
      "3\n"
     ]
    }
   ],
   "source": [
    "def add(x, y):\n",
    "    return x + y\n",
    "print(add(1, 2))\n",
    "\n",
    "add_lambda = lambda x, y: x + y\n",
    "print(add_lambda(1, 2))"
   ]
  },
  {
   "cell_type": "code",
   "execution_count": 29,
   "metadata": {},
   "outputs": [
    {
     "name": "stdout",
     "output_type": "stream",
     "text": [
      "[80.0, 86.66666666666667, 90.0]\n",
      "[80.0, 86.66666666666667, 90.0]\n",
      "[{'name': 'duru', 'points': [80, 85, 95]}, {'name': 'egoing', 'points': [90, 85, 95]}]\n",
      "[{'name': 'duru', 'points': [80, 85, 95]}, {'name': 'egoing', 'points': [90, 85, 95]}]\n",
      "[7, 5, 4, 3, 3, 2, 1]\n",
      "[{'name': 'duru', 'points': [80, 85, 95]},\n",
      " {'name': 'egoing', 'points': [90, 85, 95]},\n",
      " {'name': 'sookbun', 'points': [60, 80, 100]}]\n",
      "[{'name': 'egoing', 'points': [90, 85, 95]},\n",
      " {'name': 'duru', 'points': [80, 85, 95]},\n",
      " {'name': 'sookbun', 'points': [60, 80, 100]}]\n"
     ]
    }
   ],
   "source": [
    "students = [\n",
    "    {'name': 'sookbun', 'points': [60, 80, 100]},\n",
    "    {'name': 'duru', 'points': [80, 85, 95]},\n",
    "    {'name': 'egoing', 'points': [90, 85, 95]},\n",
    "]\n",
    "\n",
    "# map - 평균\n",
    "result = map(lambda x: sum(x['points']) / len(x['points']), students)\n",
    "print(list(result))\n",
    "result = [sum(x['points']) / len(x['points']) for x in students]\n",
    "print(result)\n",
    "\n",
    "# filter - 평균 85 이상인 사람들.\n",
    "result = filter(lambda x: (sum(x['points']) / len(x['points'])) > 85, students)\n",
    "print(list(result))\n",
    "result = [x for x in students if (sum(x['points']) / len(x['points'])) > 85]\n",
    "print(result)\n",
    "\n",
    "# 정렬 - 평균으로 정렬\n",
    "print(sorted([3, 2, 5, 3, 7, 1, 4], reverse=True))\n",
    "\n",
    "import pprint\n",
    "pprint.pprint(sorted(students, key=lambda x: x['name']))\n",
    "pprint.pprint(sorted(students, key=lambda x: x['points'][0], reverse=True))\n"
   ]
  },
  {
   "cell_type": "code",
   "execution_count": 34,
   "metadata": {},
   "outputs": [],
   "source": [
    "from konlpy.tag import Kkma \n",
    "kkma = Kkma()"
   ]
  },
  {
   "cell_type": "code",
   "execution_count": 41,
   "metadata": {},
   "outputs": [
    {
     "data": {
      "text/plain": [
       "['뭐',\n",
       " '그대',\n",
       " '나',\n",
       " '인사',\n",
       " '이대',\n",
       " '무엇',\n",
       " '사랑',\n",
       " '대로',\n",
       " '기억',\n",
       " '속',\n",
       " '여행',\n",
       " '우리',\n",
       " '오렌지',\n",
       " '태양',\n",
       " '아래',\n",
       " '그림자',\n",
       " '춤',\n",
       " '이별',\n",
       " '따위',\n",
       " '악몽',\n",
       " '섬',\n",
       " '서로',\n",
       " '영원',\n",
       " '말',\n",
       " '모래성',\n",
       " '작별',\n",
       " '재난',\n",
       " '재난문자',\n",
       " '문자',\n",
       " '그리움',\n",
       " '아침',\n",
       " '영겁',\n",
       " '꼭',\n",
       " '날',\n",
       " '위',\n",
       " '누구',\n",
       " '뼘',\n",
       " '추억',\n",
       " '시간',\n",
       " '그곳',\n",
       " '안녕',\n",
       " '이야기',\n",
       " '우울',\n",
       " '결말']"
      ]
     },
     "execution_count": 41,
     "metadata": {},
     "output_type": "execute_result"
    }
   ],
   "source": [
    "lyrics = \"\"\"\t\t\t\t\t\t\t\n",
    "So are you happy now\n",
    "Finally happy now are you\n",
    "\n",
    "뭐 그대로야 난 \n",
    "다 잃어버린 것 같아  \n",
    "\n",
    "모든 게 맘대로 왔다가 인사도 없이 떠나\n",
    "이대로는 무엇도 사랑하고 싶지 않아 \n",
    "다 해질 대로 해져버린\n",
    "기억 속을 여행해 \n",
    "\n",
    "우리는 오렌지 태양 아래\n",
    "그림자 없이 함께 춤을 춰\n",
    "정해진 이별 따위는 없어 \n",
    "아름다웠던 그 기억에서 만나 \n",
    "Forever young \n",
    "\n",
    "우우우 우우우우  우우우 우우우우\n",
    "Forever we young \n",
    "우우우 우우우우\n",
    "이런 악몽이라면 영영 깨지 않을게 \n",
    "\n",
    "섬 그래 여긴 섬 서로가 만든 작은 섬\n",
    "예 음 forever young 영원이란 말은 모래성\n",
    "\n",
    "작별은 마치 재난문자 같지\n",
    "그리움과 같이 맞이하는 아침\n",
    "서로가 이 영겁을 지나 \n",
    "꼭 이 섬에서 다시 만나\n",
    "  \n",
    "지나듯 날 위로하던 누구의 말대로 고작\n",
    "한 뼘짜리 추억을 잊는 게 참 쉽지 않아\n",
    "시간이 지나도 여전히\n",
    "날 붙드는 그곳에 \n",
    "  \n",
    "우리는 오렌지 태양 아래\n",
    "그림자 없이 함께 춤을 춰\n",
    "정해진 안녕 따위는 없어 \n",
    "아름다웠던 그 기억에서 만나 \n",
    "  \n",
    "우리는 서로를 베고 누워\n",
    "슬프지 않은 이야기를 나눠\n",
    "우울한 결말 따위는 없어\n",
    "난 영원히 널 이 기억에서 만나 \n",
    "Forever young \n",
    "  \n",
    "우우우 우우우우  우우우 우우우우\n",
    "Forever we young\n",
    "우우우 우우우우\n",
    "이런 악몽이라면 영영 깨지 않을게\n",
    "\"\"\"\n",
    "kkma.nouns(lyrics)"
   ]
  },
  {
   "cell_type": "code",
   "execution_count": 42,
   "metadata": {},
   "outputs": [
    {
     "data": {
      "text/plain": [
       "[('So', 'OL'),\n",
       " ('are', 'OL'),\n",
       " ('you', 'OL'),\n",
       " ('happy', 'OL'),\n",
       " ('now', 'OL'),\n",
       " ('Finally', 'OL'),\n",
       " ('happy', 'OL'),\n",
       " ('now', 'OL'),\n",
       " ('are', 'OL'),\n",
       " ('you', 'OL'),\n",
       " ('뭐', 'NP'),\n",
       " ('그대', 'NP'),\n",
       " ('로', 'JKM'),\n",
       " ('야', 'JX'),\n",
       " ('나', 'NP'),\n",
       " ('는', 'JX'),\n",
       " ('다', 'MAG'),\n",
       " ('잃어버리', 'VV'),\n",
       " ('ㄴ', 'ETD'),\n",
       " ('것', 'NNB'),\n",
       " ('같', 'VA'),\n",
       " ('아', 'ECD'),\n",
       " ('모든', 'MDT'),\n",
       " ('것', 'NNB'),\n",
       " ('이', 'JKS'),\n",
       " ('맘대로', 'MAG'),\n",
       " ('오', 'VV'),\n",
       " ('았', 'EPT'),\n",
       " ('다가', 'ECD'),\n",
       " ('인사', 'NNG'),\n",
       " ('도', 'JX'),\n",
       " ('없이', 'MAG'),\n",
       " ('떨', 'VV'),\n",
       " ('나', 'ECE'),\n",
       " ('이대', 'NNG'),\n",
       " ('로', 'JKM'),\n",
       " ('는', 'JX'),\n",
       " ('무엇', 'NP'),\n",
       " ('도', 'JX'),\n",
       " ('사랑', 'NNG'),\n",
       " ('하', 'XSV'),\n",
       " ('고', 'ECE'),\n",
       " ('싶', 'VXA'),\n",
       " ('지', 'ECD'),\n",
       " ('않', 'VXV'),\n",
       " ('아', 'ECD'),\n",
       " ('다', 'MAG'),\n",
       " ('해지', 'VV'),\n",
       " ('ㄹ', 'ETD'),\n",
       " ('대로', 'NNB'),\n",
       " ('해지', 'VV'),\n",
       " ('어', 'ECS'),\n",
       " ('버리', 'VXV'),\n",
       " ('ㄴ', 'ETD'),\n",
       " ('기억', 'NNG'),\n",
       " ('속', 'NNG'),\n",
       " ('을', 'JKO'),\n",
       " ('여행', 'NNG'),\n",
       " ('하', 'XSV'),\n",
       " ('어', 'ECS'),\n",
       " ('우리', 'NP'),\n",
       " ('는', 'JX'),\n",
       " ('오렌지', 'NNG'),\n",
       " ('태양', 'NNG'),\n",
       " ('아래', 'NNG'),\n",
       " ('그림자', 'NNG'),\n",
       " ('없이', 'MAG'),\n",
       " ('함께', 'MAG'),\n",
       " ('춤', 'NNG'),\n",
       " ('을', 'JKO'),\n",
       " ('추', 'VV'),\n",
       " ('어', 'ECS'),\n",
       " ('정해지', 'VV'),\n",
       " ('ㄴ', 'ETD'),\n",
       " ('이별', 'NNG'),\n",
       " ('따위', 'NNB'),\n",
       " ('는', 'JX'),\n",
       " ('없', 'VA'),\n",
       " ('어', 'ECD'),\n",
       " ('아름답', 'VA'),\n",
       " ('었', 'EPT'),\n",
       " ('더', 'EPT'),\n",
       " ('ㄴ', 'ETD'),\n",
       " ('그', 'MDT'),\n",
       " ('기억', 'NNG'),\n",
       " ('에서', 'JKM'),\n",
       " ('만', 'JX'),\n",
       " ('나', 'NP'),\n",
       " ('Forever', 'OL'),\n",
       " ('young', 'OL'),\n",
       " ('우', 'MAG'),\n",
       " ('우우', 'MAG'),\n",
       " ('우우', 'MAG'),\n",
       " ('우우', 'MAG'),\n",
       " ('우', 'MAG'),\n",
       " ('우우', 'MAG'),\n",
       " ('우우', 'MAG'),\n",
       " ('우우', 'MAG'),\n",
       " ('Forever', 'OL'),\n",
       " ('we', 'OL'),\n",
       " ('young', 'OL'),\n",
       " ('우', 'MAG'),\n",
       " ('우우', 'MAG'),\n",
       " ('우우', 'MAG'),\n",
       " ('우우', 'MAG'),\n",
       " ('이런', 'MDT'),\n",
       " ('악몽', 'NNG'),\n",
       " ('이', 'VCP'),\n",
       " ('라면', 'ECD'),\n",
       " ('영영', 'MAG'),\n",
       " ('깨', 'VV'),\n",
       " ('지', 'ECD'),\n",
       " ('않', 'VXV'),\n",
       " ('을', 'ETD'),\n",
       " ('것', 'NNB'),\n",
       " ('이', 'JKS'),\n",
       " ('섬', 'NNG'),\n",
       " ('그리하', 'VV'),\n",
       " ('여', 'ECD'),\n",
       " ('여기', 'VV'),\n",
       " ('ㄴ', 'ETD'),\n",
       " ('섬', 'NNG'),\n",
       " ('서로', 'NNG'),\n",
       " ('가', 'JKS'),\n",
       " ('만들', 'VV'),\n",
       " ('ㄴ', 'ETD'),\n",
       " ('작', 'VA'),\n",
       " ('은', 'ETD'),\n",
       " ('섬', 'NNG'),\n",
       " ('예', 'IC'),\n",
       " ('음', 'IC'),\n",
       " ('forever', 'OL'),\n",
       " ('young', 'OL'),\n",
       " ('영원', 'NNG'),\n",
       " ('이', 'VCP'),\n",
       " ('란', 'ETD'),\n",
       " ('말', 'NNG'),\n",
       " ('은', 'JX'),\n",
       " ('모래성', 'NNG'),\n",
       " ('작별', 'NNG'),\n",
       " ('은', 'JX'),\n",
       " ('마치', 'MAG'),\n",
       " ('재난', 'NNG'),\n",
       " ('문자', 'NNG'),\n",
       " ('같', 'VA'),\n",
       " ('지', 'ECD'),\n",
       " ('그리움', 'NNG'),\n",
       " ('과', 'JKM'),\n",
       " ('같이', 'MAG'),\n",
       " ('맞이하', 'VV'),\n",
       " ('는', 'ETD'),\n",
       " ('아침', 'NNG'),\n",
       " ('서로', 'NNG'),\n",
       " ('가', 'JKS'),\n",
       " ('이', 'MDT'),\n",
       " ('영겁', 'NNG'),\n",
       " ('을', 'JKO'),\n",
       " ('지나', 'VV'),\n",
       " ('꼭', 'UN'),\n",
       " ('이', 'MDT'),\n",
       " ('섬', 'NNG'),\n",
       " ('에서', 'JKM'),\n",
       " ('다시', 'MAG'),\n",
       " ('만', 'JX'),\n",
       " ('나', 'NP'),\n",
       " ('지나', 'VV'),\n",
       " ('듯', 'ECD'),\n",
       " ('날', 'NNG'),\n",
       " ('위', 'NNG'),\n",
       " ('로', 'JKM'),\n",
       " ('하', 'VV'),\n",
       " ('더', 'EPT'),\n",
       " ('ㄴ', 'ETD'),\n",
       " ('누구', 'NP'),\n",
       " ('의', 'JKG'),\n",
       " ('말', 'NNG'),\n",
       " ('대로', 'JX'),\n",
       " ('고작', 'MAG'),\n",
       " ('한', 'MDN'),\n",
       " ('뼘', 'NNM'),\n",
       " ('짜', 'VV'),\n",
       " ('리', 'EFQ'),\n",
       " ('추억', 'NNG'),\n",
       " ('을', 'JKO'),\n",
       " ('잊', 'VV'),\n",
       " ('는', 'ETD'),\n",
       " ('것', 'NNB'),\n",
       " ('이', 'JKS'),\n",
       " ('참', 'MAG'),\n",
       " ('쉽', 'VA'),\n",
       " ('지', 'ECD'),\n",
       " ('않', 'VXV'),\n",
       " ('아', 'ECD'),\n",
       " ('시간', 'NNG'),\n",
       " ('이', 'JKS'),\n",
       " ('지', 'ECS'),\n",
       " ('나', 'NP'),\n",
       " ('도', 'JX'),\n",
       " ('여전히', 'MAG'),\n",
       " ('날', 'NNG'),\n",
       " ('붙들', 'VV'),\n",
       " ('는', 'ETD'),\n",
       " ('그곳', 'NP'),\n",
       " ('에', 'JKM'),\n",
       " ('우리', 'NP'),\n",
       " ('는', 'JX'),\n",
       " ('오렌지', 'NNG'),\n",
       " ('태양', 'NNG'),\n",
       " ('아래', 'NNG'),\n",
       " ('그림자', 'NNG'),\n",
       " ('없이', 'MAG'),\n",
       " ('함께', 'MAG'),\n",
       " ('춤', 'NNG'),\n",
       " ('을', 'JKO'),\n",
       " ('추', 'VV'),\n",
       " ('어', 'ECS'),\n",
       " ('정해지', 'VV'),\n",
       " ('ㄴ', 'ETD'),\n",
       " ('안녕', 'NNG'),\n",
       " ('따위', 'NNB'),\n",
       " ('는', 'JX'),\n",
       " ('없', 'VA'),\n",
       " ('어', 'ECD'),\n",
       " ('아름답', 'VA'),\n",
       " ('었', 'EPT'),\n",
       " ('더', 'EPT'),\n",
       " ('ㄴ', 'ETD'),\n",
       " ('그', 'MDT'),\n",
       " ('기억', 'NNG'),\n",
       " ('에서', 'JKM'),\n",
       " ('만', 'JX'),\n",
       " ('나', 'NP'),\n",
       " ('우리', 'NP'),\n",
       " ('는', 'JX'),\n",
       " ('서로', 'NNG'),\n",
       " ('를', 'JKO'),\n",
       " ('베', 'VV'),\n",
       " ('고', 'ECE'),\n",
       " ('눕', 'VV'),\n",
       " ('어', 'ECS'),\n",
       " ('슬프', 'VA'),\n",
       " ('지', 'ECD'),\n",
       " ('않', 'VXV'),\n",
       " ('은', 'ETD'),\n",
       " ('이야기', 'NNG'),\n",
       " ('를', 'JKO'),\n",
       " ('나누', 'VV'),\n",
       " ('어', 'ECS'),\n",
       " ('우울', 'NNG'),\n",
       " ('하', 'XSV'),\n",
       " ('ㄴ', 'ETD'),\n",
       " ('결말', 'NNG'),\n",
       " ('따위', 'NNB'),\n",
       " ('는', 'JX'),\n",
       " ('없', 'VA'),\n",
       " ('어', 'ECD'),\n",
       " ('나', 'NP'),\n",
       " ('는', 'JX'),\n",
       " ('영원히', 'MAG'),\n",
       " ('넣', 'VV'),\n",
       " ('ㄹ', 'ETD'),\n",
       " ('이', 'MDT'),\n",
       " ('기억', 'NNG'),\n",
       " ('에서', 'JKM'),\n",
       " ('만', 'JX'),\n",
       " ('나', 'NP'),\n",
       " ('Forever', 'OL'),\n",
       " ('young', 'OL'),\n",
       " ('우', 'MAG'),\n",
       " ('우우', 'MAG'),\n",
       " ('우우', 'MAG'),\n",
       " ('우우', 'MAG'),\n",
       " ('우', 'MAG'),\n",
       " ('우우', 'MAG'),\n",
       " ('우우', 'MAG'),\n",
       " ('우우', 'MAG'),\n",
       " ('Forever', 'OL'),\n",
       " ('we', 'OL'),\n",
       " ('young', 'OL'),\n",
       " ('우', 'MAG'),\n",
       " ('우우', 'MAG'),\n",
       " ('우우', 'MAG'),\n",
       " ('우우', 'MAG'),\n",
       " ('이런', 'MDT'),\n",
       " ('악몽', 'NNG'),\n",
       " ('이', 'VCP'),\n",
       " ('라면', 'ECD'),\n",
       " ('영영', 'MAG'),\n",
       " ('깨', 'VV'),\n",
       " ('지', 'ECD'),\n",
       " ('않', 'VXV'),\n",
       " ('을게', 'EFN')]"
      ]
     },
     "execution_count": 42,
     "metadata": {},
     "output_type": "execute_result"
    }
   ],
   "source": [
    "kkma.pos(lyrics)"
   ]
  },
  {
   "cell_type": "code",
   "execution_count": 45,
   "metadata": {},
   "outputs": [
    {
     "data": {
      "text/plain": [
       "['def']"
      ]
     },
     "execution_count": 45,
     "metadata": {},
     "output_type": "execute_result"
    }
   ],
   "source": [
    "import re\n",
    "m = re.findall('(?<=abc)def', 'abcdef')\n",
    "m"
   ]
  },
  {
   "cell_type": "code",
   "execution_count": 55,
   "metadata": {},
   "outputs": [
    {
     "name": "stdout",
     "output_type": "stream",
     "text": [
      "blackdew7@gmail.com\n",
      "duru@opentutorials.org\n"
     ]
    },
    {
     "data": {
      "text/plain": [
       "[('010', '1111-1112'), ('02', '111-1111')]"
      ]
     },
     "execution_count": 55,
     "metadata": {},
     "output_type": "execute_result"
    }
   ],
   "source": [
    "text = \"\"\"\n",
    "blackdew7@gmail.com\n",
    "duru@opentutorials.org\n",
    "고객센터 010-1111-1112 dsadfasd\n",
    "blarblar blar as;ldfkjas;fdlij\n",
    "phone 02)111-1111 lfafjasdf\n",
    "as;dfkha;skd\n",
    "\"\"\"\n",
    "\n",
    "import re\n",
    "regex = re.compile('([a-zA-Z0-9_\\-\\.]+)@([a-zA-Z0-9_\\-\\.]+)\\.([a-zA-Z]{2,5})')\n",
    "emails = regex.findall(text)\n",
    "\n",
    "for i, j, k in emails:\n",
    "    print(f\"{i}@{j}.{k}\")\n",
    "    \n",
    "regex = re.compile('(\\d{2,3})[\\-\\)](\\d{3,4}-\\d{4})')\n",
    "regex.findall(text)"
   ]
  },
  {
   "cell_type": "code",
   "execution_count": 61,
   "metadata": {},
   "outputs": [
    {
     "name": "stdout",
     "output_type": "stream",
     "text": [
      "\n",
      "bl*****7@gmail.com\n",
      "du*****u@opentutorials.org\n",
      "고객센터 010-1111-1112 dsadfasd\n",
      "blarblar blar as;ldfkjas;fdlij\n",
      "phone 02)111-1111 lfafjasdf\n",
      "as;dfkha;skd\n",
      "\n"
     ]
    }
   ],
   "source": [
    "text = \"\"\"\n",
    "blackdew7@gmail.com\n",
    "duru@opentutorials.org\n",
    "고객센터 010-1111-1112 dsadfasd\n",
    "blarblar blar as;ldfkjas;fdlij\n",
    "phone 02)111-1111 lfafjasdf\n",
    "as;dfkha;skd\n",
    "\"\"\"\n",
    "\n",
    "import re\n",
    "regex = re.compile('(\\w\\w)\\w*(\\w)(?=@)')\n",
    "print(regex.sub('\\g<1>*****\\g<2>', text))"
   ]
  },
  {
   "cell_type": "code",
   "execution_count": 57,
   "metadata": {},
   "outputs": [
    {
     "name": "stdout",
     "output_type": "stream",
     "text": [
      "Help on built-in function sub:\n",
      "\n",
      "sub(repl, string, count=0) method of re.Pattern instance\n",
      "    Return the string obtained by replacing the leftmost non-overlapping occurrences of pattern in string by the replacement repl.\n",
      "\n"
     ]
    }
   ],
   "source": [
    "help(regex.sub)"
   ]
  },
  {
   "cell_type": "code",
   "execution_count": 63,
   "metadata": {},
   "outputs": [
    {
     "name": "stdout",
     "output_type": "stream",
     "text": [
      "<html><head></head><body><header>\n",
      "<title>http://info.cern.ch</title>\n",
      "</header>\n",
      "\n",
      "<h1>http://info.cern.ch - home of the first website</h1>\n",
      "<p>From here you can:</p>\n",
      "<ul>\n",
      "<li><a href=\"http://info.cern.ch/hypertext/WWW/TheProject.html\">Browse the first website</a></li>\n",
      "<li><a href=\"http://line-mode.cern.ch/www/hypertext/WWW/TheProject.html\">Browse the first website using the line-mode browser simulator</a></li>\n",
      "<li><a href=\"http://home.web.cern.ch/topics/birth-web\">Learn about the birth of the web</a></li>\n",
      "<li><a href=\"http://home.web.cern.ch/about\">Learn about CERN, the physics laboratory where the web was born</a></li>\n",
      "</ul>\n",
      "</body></html>\n",
      "\n"
     ]
    },
    {
     "data": {
      "text/plain": [
       "['http://info.cern.ch/hypertext/WWW/TheProject.html',\n",
       " 'http://line-mode.cern.ch/www/hypertext/WWW/TheProject.html',\n",
       " 'http://home.web.cern.ch/topics/birth-web',\n",
       " 'http://home.web.cern.ch/about']"
      ]
     },
     "execution_count": 63,
     "metadata": {},
     "output_type": "execute_result"
    }
   ],
   "source": [
    "import requests\n",
    "\n",
    "res = requests.get('http://info.cern.ch')\n",
    "print(res.text)\n",
    "\n",
    "import re \n",
    "regex = re.compile('href=\"(.+)\"')\n",
    "regex.findall(res.text)"
   ]
  },
  {
   "cell_type": "code",
   "execution_count": null,
   "metadata": {},
   "outputs": [],
   "source": []
  }
 ],
 "metadata": {
  "kernelspec": {
   "display_name": "Python 3",
   "language": "python",
   "name": "python3"
  },
  "language_info": {
   "codemirror_mode": {
    "name": "ipython",
    "version": 3
   },
   "file_extension": ".py",
   "mimetype": "text/x-python",
   "name": "python",
   "nbconvert_exporter": "python",
   "pygments_lexer": "ipython3",
   "version": "3.7.7"
  }
 },
 "nbformat": 4,
 "nbformat_minor": 4
}
