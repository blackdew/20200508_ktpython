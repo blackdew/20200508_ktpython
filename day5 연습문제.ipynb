{
 "cells": [
  {
   "cell_type": "code",
   "execution_count": null,
   "metadata": {},
   "outputs": [],
   "source": [
    "# 1부터 N까지의 연속된 숫자중 1개의 숫자만 중복이 되어있는 (N + 1)개의 숫자가 있다. \n",
    "# 중복된 숫자를 찾는 함수를 만들어보자 \n",
    "\n",
    "def find_duplicated_num(nums):\n",
    "    return 0\n",
    "\n",
    "import random\n",
    "n = 10\n",
    "numbers = list(range(1, 10)) \n",
    "numbers.append(random.randint(1, 10))\n",
    "print(numbers)\n",
    "\n",
    "print(find_duplicated_num(numbers))"
   ]
  },
  {
   "cell_type": "code",
   "execution_count": null,
   "metadata": {},
   "outputs": [],
   "source": [
    "# palindrome\n",
    "# 순서대로 읽어도 거꾸로 읽어도 동일한 문자열을 체크하는 함수\n",
    "def palindrome(source):\n",
    "    return False\n",
    "\n",
    "print(palindrome(\"abcddcba\"))"
   ]
  },
  {
   "cell_type": "code",
   "execution_count": null,
   "metadata": {},
   "outputs": [],
   "source": [
    "# Mr, Mrs, Master, Miss가 각각 몇번씩 나왔는지 빈도수를 출력해보자\n",
    "dataset = ['Braund, Mr. Owen Harris',\n",
    "'Cumings, Mrs. John Bradley (Florence Briggs Thayer)',\n",
    "'Heikkinen, Miss. Laina',\n",
    "'Futrelle, Mrs. Jacques Heath (Lily May Peel)',\n",
    "'Allen, Mr. William Henry',\n",
    "'Moran, Mr. James',\n",
    "'McCarthy, Mr. Timothy J',\n",
    "'Palsson, Master. Gosta Leonard',\n",
    "'Johnson, Mrs. Oscar W (Elisabeth Vilhelmina Berg)',\n",
    "'Nasser, Mrs. Nicholas (Adele Achem)',\n",
    "'Sandstrom, Miss. Marguerite Rut',\n",
    "'Bonnell, Miss. Elizabeth',\n",
    "'Saundercock, Mr. William Henry',\n",
    "'Andersson, Mr. Anders Johan',\n",
    "'Vestrom, Miss. Hulda Amanda Adolfina',\n",
    "'Hewlett, Mrs. (Mary D Kingcome) ',\n",
    "'Rice, Master. Eugene',\n",
    "'Williams, Mr. Charles Eugene',\n",
    "'Vander Planke, Mrs. Julius (Emelia Maria Vandemoortele)',\n",
    "'Masselmani, Mrs. Fatima',\n",
    "'Fynney, Mr. Joseph J',\n",
    "'Beesley, Mr. Lawrence',\n",
    "'McGowan, Miss. Anna \"Annie\"',\n",
    "'Sloper, Mr. William Thompson',\n",
    "'Palsson, Miss. Torborg Danira',\n",
    "'Asplund, Mrs. Carl Oscar (Selma Augusta Emilia Johansson)',\n",
    "'Emir, Mr. Farred Chehab',\n",
    "'Fortune, Mr. Charles Alexander',\n",
    "'Dwyer, Miss. Ellen \"Nellie\"',\n",
    "'Todoroff, Mr. Lalio']"
   ]
  },
  {
   "cell_type": "code",
   "execution_count": null,
   "metadata": {},
   "outputs": [],
   "source": [
    "ratings = {\n",
    "     '이숙번': {'1917': 5, '엽문4': 2, '라라랜드': 3, '주디': 5},\n",
    "     '강두루': {'1917': 4, '라라랜드': 3, '신과나': 5},\n",
    "     '이고잉': {'라라랜드': 4, '엽문4': 4, '주디': 1},\n",
    "     '정원혁': {'엽문':3, '신과나': 5, '1917': 4, '주디': 2}\n",
    "}\n",
    "\n",
    "# 이숙번과 취향이 가장 비슷한 사람을 찾아라.\n",
    "def diff(user1, user2):\n",
    "    return 0\n",
    "\n",
    "print(diff(ratings['이숙번'], ratings['강두루']))\n",
    "print(diff(ratings['이숙번'], ratings['이고잉']))\n",
    "print(diff(ratings['이숙번'], ratings['정원혁']))"
   ]
  },
  {
   "cell_type": "code",
   "execution_count": null,
   "metadata": {},
   "outputs": [],
   "source": [
    "ratings = {\n",
    "     '이숙번': {'1917': 5, '엽문4': 2, '라라랜드': 3, '주디': 5},\n",
    "     '강두루': {'1917': 4, '라라랜드': 3, '신과나': 5},\n",
    "     '이고잉': {'라라랜드': 4, '엽문4': 4, '주디': 1},\n",
    "     '정원혁': {'엽문':3, '신과나': 5, '1917': 4, '주디': 2}\n",
    "}\n",
    "\n",
    "# 영화를 평균평점순으로 정렬\n",
    "def pivot_by_movies(ratings):\n",
    "    return []\n",
    "\n",
    "movies = pivot_by_movies(ratings)\n",
    "sorted(movies)\n"
   ]
  },
  {
   "cell_type": "code",
   "execution_count": null,
   "metadata": {},
   "outputs": [],
   "source": [
    "# 네이버 실시간 검색어 추출\n"
   ]
  }
 ],
 "metadata": {
  "kernelspec": {
   "display_name": "Python 3",
   "language": "python",
   "name": "python3"
  },
  "language_info": {
   "codemirror_mode": {
    "name": "ipython",
    "version": 3
   },
   "file_extension": ".py",
   "mimetype": "text/x-python",
   "name": "python",
   "nbconvert_exporter": "python",
   "pygments_lexer": "ipython3",
   "version": "3.7.7"
  }
 },
 "nbformat": 4,
 "nbformat_minor": 4
}
