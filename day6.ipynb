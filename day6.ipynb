{
 "cells": [
  {
   "cell_type": "code",
   "execution_count": 2,
   "metadata": {},
   "outputs": [
    {
     "data": {
      "text/plain": [
       "[<img alt=\"Google logo\" class=\"kgJEQe\" src=\"/images/branding/searchlogo/1x/googlelogo_desk_heirloom_color_150x55dp.gif\"/>,\n",
       " <img alt=\"\" class=\"t0fcAb\" src=\"https://encrypted-tbn0.gstatic.com/images?q=tbn:ANd9GcRDD_lxslQoO1oFRW56EKbT1RMP3BSxc3GCacPg-WnDusfn0sflr4girqNSmkHx&amp;s\"/>,\n",
       " <img alt=\"\" class=\"t0fcAb\" src=\"https://encrypted-tbn0.gstatic.com/images?q=tbn:ANd9GcTu-6kwOrtgYl83jcT79h1FPMy017WGyv1zK4rFPzONZeeuaEDoVJGd5RqKRGs&amp;s\"/>,\n",
       " <img alt=\"\" class=\"t0fcAb\" src=\"https://encrypted-tbn0.gstatic.com/images?q=tbn:ANd9GcRqFB1CcKWyWLhXk5eg_CFHVIYcTzg82jfUTY3j_FrIvtvfxdtqUlqTUy9PRtOQ&amp;s\"/>,\n",
       " <img alt=\"\" class=\"t0fcAb\" src=\"https://encrypted-tbn0.gstatic.com/images?q=tbn:ANd9GcTOQI277tBV-A8gXkaFHAjnVgjNMiesY5iFuUBRGfzQVGNLE1uyZ_IWD2PQUAY&amp;s\"/>,\n",
       " <img alt=\"\" class=\"t0fcAb\" src=\"https://encrypted-tbn0.gstatic.com/images?q=tbn:ANd9GcS1pfKvK6rnfHjRQqrNbqG4mCxQpmT43k-QAcIubCTwH3N-K9piW1-e7qK7uMyH&amp;s\"/>,\n",
       " <img alt=\"\" class=\"t0fcAb\" src=\"https://encrypted-tbn0.gstatic.com/images?q=tbn:ANd9GcRr4AIzt21Lkfx6efWj0jf8CxXHOUhFhar8m6kNy8NwzVYcJvYD-N8jASSqt6Kv&amp;s\"/>,\n",
       " <img alt=\"\" class=\"t0fcAb\" src=\"https://encrypted-tbn0.gstatic.com/images?q=tbn:ANd9GcTUxdY6Qr74zbX_nHB8CQh0WrmKGogmcvGY31GOr5y15tiSL6k7lOK5QxhNHFWG&amp;s\"/>,\n",
       " <img alt=\"\" class=\"t0fcAb\" src=\"https://encrypted-tbn0.gstatic.com/images?q=tbn:ANd9GcRO7Bkwkpf_WnFUgmEUPcsT8IJRVrm_s5aALFrV0Pd5gCbJx38J8hLGvPmgsWjw&amp;s\"/>,\n",
       " <img alt=\"\" class=\"t0fcAb\" src=\"https://encrypted-tbn0.gstatic.com/images?q=tbn:ANd9GcTPaxUKfmyIlCpSpEzXuY-BIBSDLy46MxHc1F2PhS7YeaKm9EDitCPNKJlRNcmy&amp;s\"/>,\n",
       " <img alt=\"\" class=\"t0fcAb\" src=\"https://encrypted-tbn0.gstatic.com/images?q=tbn:ANd9GcTArxRPI6f1HjGcq2xV9E1EVIKWJjIzGYLGb7VDL9mYPR2keMbh2wTamiHnm05a&amp;s\"/>,\n",
       " <img alt=\"\" class=\"t0fcAb\" src=\"https://encrypted-tbn0.gstatic.com/images?q=tbn:ANd9GcQXySwG9h9WAPlmp4AksuxIjCfKqz8Qjg99RBvSBeXhoVxWvpXbbu7RBiwzL4s&amp;s\"/>,\n",
       " <img alt=\"\" class=\"t0fcAb\" src=\"https://encrypted-tbn0.gstatic.com/images?q=tbn:ANd9GcRx9Y66ohbS33oRzZV4w3tpN97qrq3a6gjLJEqhTrhjzc-vKazXRdoz8YkdSX6m&amp;s\"/>,\n",
       " <img alt=\"\" class=\"t0fcAb\" src=\"https://encrypted-tbn0.gstatic.com/images?q=tbn:ANd9GcTuazgeUniYoVDrk6mkno8NaVb6CtBgJAG73mtPakIa8kCvp1UcsGwQJg-l6IbT&amp;s\"/>,\n",
       " <img alt=\"\" class=\"t0fcAb\" src=\"https://encrypted-tbn0.gstatic.com/images?q=tbn:ANd9GcR00GoUcq1uT2W5HJcexXwwi6iKZZw6EcVeo3BeQxsduwQ49on7zUByp-h3GNw&amp;s\"/>,\n",
       " <img alt=\"\" class=\"t0fcAb\" src=\"https://encrypted-tbn0.gstatic.com/images?q=tbn:ANd9GcTZNVBM-hhLJETqVn756sQY9zXGyDpnrWnaSeXsT4-bp_9H-GFaY66MHan2xb5L&amp;s\"/>,\n",
       " <img alt=\"\" class=\"t0fcAb\" src=\"https://encrypted-tbn0.gstatic.com/images?q=tbn:ANd9GcR1yQZqWGQHEZJSoNJeqU0pDD2G3dpBWdyh1_0_-jrxm0q_CLlHk4IKc7BBcqRl&amp;s\"/>,\n",
       " <img alt=\"\" class=\"t0fcAb\" src=\"https://encrypted-tbn0.gstatic.com/images?q=tbn:ANd9GcQ7ywZuo_wBFK3ZJyyQTSG2KDGvNE-TddnEwNFbHuHZkXPxpK0d2YL8wyLB8zo&amp;s\"/>,\n",
       " <img alt=\"\" class=\"t0fcAb\" src=\"https://encrypted-tbn0.gstatic.com/images?q=tbn:ANd9GcQ31R0FgtLUinNkScR1YxiAgw6epQwhQRUK8pXzJ2XOfIdni1vhU-tXQO9wbdnf&amp;s\"/>,\n",
       " <img alt=\"\" class=\"t0fcAb\" src=\"https://encrypted-tbn0.gstatic.com/images?q=tbn:ANd9GcSTL2hvrz_Ti46APU8C2fWy_P5bqUJrz7UycikyAsY7jiftWggWjBf8orvZ-zY&amp;s\"/>,\n",
       " <img alt=\"\" class=\"t0fcAb\" src=\"https://encrypted-tbn0.gstatic.com/images?q=tbn:ANd9GcQb2NmOndqb3nDWB3PJSlNfMbGBjxxWSoPG90axaqID_yakQ4v-EGXIuFo4pes&amp;s\"/>]"
      ]
     },
     "execution_count": 2,
     "metadata": {},
     "output_type": "execute_result"
    }
   ],
   "source": [
    "import requests\n",
    "from bs4 import BeautifulSoup\n",
    "\n",
    "url = 'https://www.google.com/search?q=%EA%B3%A0%EC%96%91%EC%9D%B4&sxsrf=ALeKk03B5wC5rwZ8tj7Z6xMW0oyh08QDGw:1589506004814&source=lnms&tbm=isch&sa=X&ved=2ahUKEwi13qOm27TpAhWXad4KHSpZDFgQ_AUoAXoECBkQAw&biw=1024&bih=560'\n",
    "res = requests.get(url)\n",
    "soup = BeautifulSoup(res.content, 'html.parser')\n",
    "\n",
    "soup.select('img')\n"
   ]
  },
  {
   "cell_type": "code",
   "execution_count": 4,
   "metadata": {},
   "outputs": [],
   "source": [
    "from selenium import webdriver\n",
    "driver = webdriver.Chrome('chromedriver')"
   ]
  },
  {
   "cell_type": "code",
   "execution_count": 16,
   "metadata": {},
   "outputs": [],
   "source": [
    "url = 'https://www.google.com/'\n",
    "driver.get(url)\n",
    "\n",
    "soup = BeautifulSoup(driver.page_source, 'html.parser')"
   ]
  },
  {
   "cell_type": "code",
   "execution_count": 17,
   "metadata": {},
   "outputs": [],
   "source": [
    "driver.find_element_by_css_selector('.gLFyf').clear()\n",
    "driver.find_element_by_css_selector('.gLFyf').send_keys('강아지')"
   ]
  },
  {
   "cell_type": "code",
   "execution_count": 18,
   "metadata": {},
   "outputs": [],
   "source": [
    "driver.find_element_by_css_selector('.gNO89b').click()"
   ]
  },
  {
   "cell_type": "code",
   "execution_count": 26,
   "metadata": {},
   "outputs": [],
   "source": [
    "import pymysql \n",
    "\n",
    "db = pymysql.connect(\n",
    "    user='root',\n",
    "    passwd='',\n",
    "    host='localhost',\n",
    "    db='web',\n",
    "    charset='utf8',\n",
    "    cursorclass=pymysql.cursors.DictCursor\n",
    ")"
   ]
  },
  {
   "cell_type": "code",
   "execution_count": 27,
   "metadata": {},
   "outputs": [
    {
     "data": {
      "text/plain": [
       "[{'id': 1,\n",
       "  'title': 'MySQL',\n",
       "  'description': 'MySQL is...',\n",
       "  'created': datetime.datetime(2018, 1, 1, 12, 10, 11),\n",
       "  'author_id': 1},\n",
       " {'id': 2,\n",
       "  'title': 'Oracle',\n",
       "  'description': 'Oracle is ...',\n",
       "  'created': datetime.datetime(2018, 1, 3, 13, 1, 10),\n",
       "  'author_id': 1},\n",
       " {'id': 3,\n",
       "  'title': 'SQL Server',\n",
       "  'description': 'SQL Server is ...',\n",
       "  'created': datetime.datetime(2018, 1, 20, 11, 1, 10),\n",
       "  'author_id': 2},\n",
       " {'id': 4,\n",
       "  'title': 'PostgreSQL',\n",
       "  'description': 'PostgreSQL is ...',\n",
       "  'created': datetime.datetime(2018, 1, 23, 1, 3, 3),\n",
       "  'author_id': 3},\n",
       " {'id': 5,\n",
       "  'title': 'MongoDB',\n",
       "  'description': 'MongoDB is ...',\n",
       "  'created': datetime.datetime(2018, 1, 30, 12, 31, 3),\n",
       "  'author_id': 1}]"
      ]
     },
     "execution_count": 27,
     "metadata": {},
     "output_type": "execute_result"
    }
   ],
   "source": [
    "cursor = db.cursor()\n",
    "cursor.execute('select * from topic')\n",
    "cursor.fetchall()\n"
   ]
  },
  {
   "cell_type": "code",
   "execution_count": null,
   "metadata": {},
   "outputs": [],
   "source": []
  }
 ],
 "metadata": {
  "kernelspec": {
   "display_name": "Python 3",
   "language": "python",
   "name": "python3"
  },
  "language_info": {
   "codemirror_mode": {
    "name": "ipython",
    "version": 3
   },
   "file_extension": ".py",
   "mimetype": "text/x-python",
   "name": "python",
   "nbconvert_exporter": "python",
   "pygments_lexer": "ipython3",
   "version": "3.7.7"
  }
 },
 "nbformat": 4,
 "nbformat_minor": 4
}
