{
 "cells": [
  {
   "cell_type": "code",
   "execution_count": null,
   "metadata": {},
   "outputs": [],
   "source": [
    "members = [\"안영보\", \"강민구\", \"곽상열\", \"심광현\", \n",
    "\"서치원\", \"김수연\", \"정호용\", \"이호준\", \"박영근\", \"정성훈\",\n",
    "\"박세준\", \"이재화\", \"박은진\", \"박경원\", \"김태현\", \"김미성\",\n",
    "\"최진국\", \"이연\", \"손준오\", \"배가혜\", \"김민우\", \"권도안\"]\n",
    "\n",
    "import random\n",
    "teams = []\n",
    "while members:\n",
    "    teams.append(random.sample(members, 2))\n",
    "    members.remove(teams[-1][0])\n",
    "    members.remove(teams[-1][1])\n",
    "\n",
    "teams"
   ]
  },
  {
   "cell_type": "code",
   "execution_count": null,
   "metadata": {},
   "outputs": [],
   "source": [
    "# session을 활용하여 로그인 기능을 구현한다. \n",
    "# index 페이지 \n",
    "# 로그인이 안되어있을 때에는 로그인, 회원가입 링크를 보여주고,\n",
    "# 로그인이 되어있을 때에는 로그아웃, 회원탈퇴 링크를 보여준다.\n",
    "# 회원로그인 /login, 회원로그아웃 /logout \n",
    "# 회원가입 /join, 회원탈퇴 /withdrawal\n"
   ]
  },
  {
   "cell_type": "code",
   "execution_count": null,
   "metadata": {},
   "outputs": [],
   "source": [
    "# /news/ranking \n",
    "# 다음 랭킝 뉴스 크롤링 - https://media.daum.net/ranking/\n",
    "# 날짜를 입력받는 폼을 보여주고, 날짜를 입력하고 버튼을 클릭하면 해당 날짜의 뉴스 랭킹 리스트를 보여준다. \n",
    "# 뉴스의 리스트 url은 다음과 같이 한다. \"/news/words?url=<해당뉴스의 url>\"\n"
   ]
  },
  {
   "cell_type": "code",
   "execution_count": null,
   "metadata": {},
   "outputs": [],
   "source": [
    "# /news/words?url=<해당뉴스의 url>\n",
    "# 다음 뉴스 크롤링 - 컨텐츠 단어 랭킹 추출\n",
    "# 뉴스의 컨텐츠를 읽어서 단어 카운트를 하고, 정렬하여 보여준다.\n"
   ]
  },
  {
   "cell_type": "code",
   "execution_count": null,
   "metadata": {},
   "outputs": [],
   "source": [
    "# /downloads/<검색어>\n",
    "# 다음 구글 이미지 크롤링\n",
    "# 키워드로 검색된 구글 이미지를 디렉토리에 다운로드한다.\n",
    "# url로 불러오는 경우와 바이너리가 직접 들어있는 경우 모두 다운로드한다.\n",
    "\n"
   ]
  },
  {
   "cell_type": "code",
   "execution_count": null,
   "metadata": {},
   "outputs": [],
   "source": [
    "# (옵션)\n",
    "# 다음 랭킹 뉴스 페이지(https://media.daum.net/ranking/)의\n",
    "# 하위 탭 메뉴와 페이지들을 확인하고, 크롤링을 통해 \n",
    "# 유용한 기능을 파트너와 함께 자유롭게 기획하여 추가해 봅시다. "
   ]
  }
 ],
 "metadata": {
  "kernelspec": {
   "display_name": "Python 3",
   "language": "python",
   "name": "python3"
  },
  "language_info": {
   "codemirror_mode": {
    "name": "ipython",
    "version": 3
   },
   "file_extension": ".py",
   "mimetype": "text/x-python",
   "name": "python",
   "nbconvert_exporter": "python",
   "pygments_lexer": "ipython3",
   "version": "3.8.2-final"
  }
 },
 "nbformat": 4,
 "nbformat_minor": 4
}